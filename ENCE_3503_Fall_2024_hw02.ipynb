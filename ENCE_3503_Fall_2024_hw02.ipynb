{
  "nbformat": 4,
  "nbformat_minor": 0,
  "metadata": {
    "colab": {
      "provenance": [],
      "include_colab_link": true
    },
    "kernelspec": {
      "name": "python3",
      "display_name": "Python 3"
    },
    "language_info": {
      "name": "python"
    }
  },
  "cells": [
    {
      "cell_type": "markdown",
      "metadata": {
        "id": "view-in-github",
        "colab_type": "text"
      },
      "source": [
        "<a href=\"https://colab.research.google.com/github/ikramhasanli/demo-repo/blob/main/ENCE_3503_Fall_2024_hw02.ipynb\" target=\"_parent\"><img src=\"https://colab.research.google.com/assets/colab-badge.svg\" alt=\"Open In Colab\"/></a>"
      ]
    },
    {
      "cell_type": "markdown",
      "source": [
        "# ENCE 3503: Fall 2024 Homework 2"
      ],
      "metadata": {
        "id": "rOdt7l5BIdBy"
      }
    },
    {
      "cell_type": "markdown",
      "source": [
        "## Submission Instructions\n",
        "**Latest attempt** will be graded. Not following any one of the instructions below will result in **zero grade**:\n",
        "\n",
        "- Rename your file by including your student information (Name and ID): **ENCE_3503_Fall_2024_hw02_StudentName_ID.ipynb**\n",
        "- Submit your updated `.ipynb` file to your **Github Classroom Repository** (accept it at: https://classroom.github.com/a/5w6zTZ3-)\n",
        "- Submit your updated `.ipynb` file to **Blackboard**.\n",
        "- Update **Student Information** (see below)."
      ],
      "metadata": {
        "id": "yXoa-aiVH43E"
      }
    },
    {
      "cell_type": "markdown",
      "source": [
        "## Student Information\n",
        "\n",
        "**Full Name:** Ikram Hasanli\n",
        "\n",
        "**ID:** 15235\n",
        "\n",
        "**Github Repository URL:** https://github.com/ADA-SITE-ENCE-3503/pandas-matplotlib-ikramhasanli"
      ],
      "metadata": {
        "id": "MChims5UIa2n"
      }
    },
    {
      "cell_type": "markdown",
      "source": [
        "## Homework Instructions\n",
        "\n",
        "In all tasks, you should preferably **add additional cells and markdown comments** as necessary. You should handle possible **exceptional cases** and test your functions. Generally, you have flexibility on how you handle the problem, but all the written **instructions** must be met. Your code should be clear and understandable. Don't remove any comment/cell that the notebook already has."
      ],
      "metadata": {
        "id": "ob1pQ6nbMCAL"
      }
    },
    {
      "cell_type": "markdown",
      "source": [
        "Download **IMDB Top 1000** movies database (`.csv`) file from https://www.kaggle.com/datasets/harshitshankhdhar/imdb-dataset-of-top-1000-movies-and-tv-shows."
      ],
      "metadata": {
        "id": "OsXIXYuIoajp"
      }
    },
    {
      "cell_type": "code",
      "source": [
        "# Import libraries (run the cell)\n",
        "import numpy as np\n",
        "import pandas as pd\n",
        "import matplotlib.pyplot as plt\n",
        "%matplotlib inline"
      ],
      "metadata": {
        "id": "pH5ZKoZvPDa3"
      },
      "execution_count": 54,
      "outputs": []
    },
    {
      "cell_type": "code",
      "source": [
        "# Uncomment and run the code below if you are working in google colab to upload the csv\n",
        "from google.colab import drive\n",
        "drive.mount('/content/drive')\n",
        "\n",
        "import pandas as pd\n",
        "\n",
        "df = pd.read_csv('/content/drive/MyDrive/imdb_top_1000.csv')\n",
        "\n"
      ],
      "metadata": {
        "id": "aG-BDSAcMlVc",
        "colab": {
          "base_uri": "https://localhost:8080/"
        },
        "outputId": "7d86990a-ef64-4680-974e-295b95c1a963"
      },
      "execution_count": 55,
      "outputs": [
        {
          "output_type": "stream",
          "name": "stdout",
          "text": [
            "Drive already mounted at /content/drive; to attempt to forcibly remount, call drive.mount(\"/content/drive\", force_remount=True).\n"
          ]
        }
      ]
    },
    {
      "cell_type": "code",
      "source": [
        "# Update the csv filepath below accordingly and run this cell to import csv\n",
        "filepath = \"/content/drive/MyDrive/imdb_top_1000\" # update this line\n",
        "imdb = pd.read_csv(filepath + '.csv')"
      ],
      "metadata": {
        "id": "kzZJmVxxM_PX"
      },
      "execution_count": 61,
      "outputs": []
    },
    {
      "cell_type": "code",
      "source": [
        "# The code below is for grading. It is ok to run such cells, but you won't use them.\n",
        "task = np.zeros(100, dtype=np.uint8)"
      ],
      "metadata": {
        "id": "3zvBUaM4U-Ut"
      },
      "execution_count": 62,
      "outputs": []
    },
    {
      "cell_type": "code",
      "source": [
        "# Print out columns, then rename them however you wish (make them simpler).\n",
        "print('Original columns: ', imdb.columns)\n",
        "imdb.rename(columns={'Poster_Link': 'poster', 'Series_Title': 'title', 'Released_Year': 'year', 'Certificate': 'certificate', 'Runtime': 'runtime', 'Genre':'genre', 'IMDB_Rating': 'rating', 'Overview': 'overview', 'Meta_score': 'metascore', 'Director': 'director', 'Star1': 'star1', 'Star2': 'star2', 'Star3': 'star3', 'Star4': 'star4', 'No_of_Votes': 'votes', 'Gross': 'gross'}, inplace=True) #I simplified the words for much easier future usage (by trying to avoid '_' or uppercase letters)\n",
        "# Drop/delete poster column.\n",
        "imdb.drop('poster', axis=1, inplace=True) #Via curiosity, I realized for this to run, this box should run once only (as afterwards, there will not be any 'poster' column anymore, and it will not be able to be removed, which leads to an error)\n",
        "print('New columns: ', imdb.columns)\n",
        "# Show first 3 rows.\n",
        "print(imdb.head(3)) #it did not print without print\n",
        "task[1] = 1 # Task 1 gives 1 point."
      ],
      "metadata": {
        "id": "OreKO5KFNHgJ",
        "colab": {
          "base_uri": "https://localhost:8080/"
        },
        "outputId": "24003bec-1187-4b5f-edb2-1e8bad7f49ab"
      },
      "execution_count": 63,
      "outputs": [
        {
          "output_type": "stream",
          "name": "stdout",
          "text": [
            "Original columns:  Index(['Poster_Link', 'Series_Title', 'Released_Year', 'Certificate',\n",
            "       'Runtime', 'Genre', 'IMDB_Rating', 'Overview', 'Meta_score', 'Director',\n",
            "       'Star1', 'Star2', 'Star3', 'Star4', 'No_of_Votes', 'Gross'],\n",
            "      dtype='object')\n",
            "New columns:  Index(['title', 'year', 'certificate', 'runtime', 'genre', 'rating',\n",
            "       'overview', 'metascore', 'director', 'star1', 'star2', 'star3', 'star4',\n",
            "       'votes', 'gross'],\n",
            "      dtype='object')\n",
            "                      title  year certificate  runtime                 genre  \\\n",
            "0  The Shawshank Redemption  1994           A  142 min                 Drama   \n",
            "1             The Godfather  1972           A  175 min          Crime, Drama   \n",
            "2           The Dark Knight  2008          UA  152 min  Action, Crime, Drama   \n",
            "\n",
            "   rating                                           overview  metascore  \\\n",
            "0     9.3  Two imprisoned men bond over a number of years...       80.0   \n",
            "1     9.2  An organized crime dynasty's aging patriarch t...      100.0   \n",
            "2     9.0  When the menace known as the Joker wreaks havo...       84.0   \n",
            "\n",
            "               director           star1           star2          star3  \\\n",
            "0        Frank Darabont     Tim Robbins  Morgan Freeman     Bob Gunton   \n",
            "1  Francis Ford Coppola   Marlon Brando       Al Pacino     James Caan   \n",
            "2     Christopher Nolan  Christian Bale    Heath Ledger  Aaron Eckhart   \n",
            "\n",
            "            star4    votes        gross  \n",
            "0  William Sadler  2343110   28,341,469  \n",
            "1    Diane Keaton  1620367  134,966,411  \n",
            "2   Michael Caine  2303232  534,858,444  \n"
          ]
        }
      ]
    },
    {
      "cell_type": "code",
      "source": [
        "# Show relevant statistics about the data (e.g. five number summary).\n",
        "print(imdb.describe()) #this code shows basic relevant statistics for numerical columns, there seems to be string values in 'Year' and 'gross' columns because they were not printed. Also, in 'runtime' the statistics cannot be calculated because of 'min'\n",
        "# Explain what you understand from this summary.\n",
        "task[2] = 3"
      ],
      "metadata": {
        "id": "nFMu0bQpPXUh",
        "colab": {
          "base_uri": "https://localhost:8080/"
        },
        "outputId": "22462fd3-3339-452a-87d5-01bad015927b"
      },
      "execution_count": 64,
      "outputs": [
        {
          "output_type": "stream",
          "name": "stdout",
          "text": [
            "            rating   metascore         votes\n",
            "count  1000.000000  843.000000  1.000000e+03\n",
            "mean      7.949300   77.971530  2.736929e+05\n",
            "std       0.275491   12.376099  3.273727e+05\n",
            "min       7.600000   28.000000  2.508800e+04\n",
            "25%       7.700000   70.000000  5.552625e+04\n",
            "50%       7.900000   79.000000  1.385485e+05\n",
            "75%       8.100000   87.000000  3.741612e+05\n",
            "max       9.300000  100.000000  2.343110e+06\n"
          ]
        }
      ]
    },
    {
      "cell_type": "code",
      "source": [
        "# Analyze your data. Is there missing (NaN) or incorrect values? What are they? # there seems to be string values in 'Year' and 'gross' columns because they were not printed. Also, in 'runtime' the statistics cannot be calculated because of 'min'\n",
        "# Are there imprecise data types (e.g. string instead of integer)? Fix/populate them.\n",
        "imdb['year'] = pd.to_numeric(imdb['year'], errors='coerce') #year column has strings instead of ints in some rows, so we are ensuring that they are shown as \"NaN\" not to affect the result\n",
        "imdb['gross'] = imdb['gross'].astype(str).str.replace(r'[$,]', '', regex=True) # we remove \"$\" sings from this (I wrote it with 2 lines because in the previous there were not mixtures of int and string in 1 line, but separate)\n",
        "imdb['gross'] = pd.to_numeric(imdb['gross'], errors='coerce') # we change all the non-numeric values (strings) to \"NaN\"\n",
        "imdb['runtime'] = imdb['runtime'].astype(str).str.replace(r' min', '', regex=True) #removing the 'min' str to calculate the mean\n",
        "imdb['runtime'] = pd.to_numeric(imdb['runtime'], errors='coerce')  # considering all the non-numeric values in this column as \"NaN\"\n",
        "for a in ['year', 'votes', 'metascore', 'gross', 'runtime']: #we replace \"NaN\"s with the mean to make it accurate\n",
        "    imdb[a] = imdb[a].fillna(imdb[a].mean()) #filling NaN with the mean values\n",
        "task[3] = 4"
      ],
      "metadata": {
        "id": "4qJDMxRjP-ps"
      },
      "execution_count": 69,
      "outputs": []
    },
    {
      "cell_type": "code",
      "source": [
        "# Generate statistics again. What new do you see? What does it tell you?\n",
        "print(imdb.describe()) #printing 5 number summary\n",
        "# I see that all the 5 num summary has been accurately calculated. The string values have first been replaced with NaN, and then they have been replaced with mean values. This is why the 5 number summary is shown right\n",
        "task[4] = 2"
      ],
      "metadata": {
        "id": "aLw0IaYseb--",
        "colab": {
          "base_uri": "https://localhost:8080/"
        },
        "outputId": "741f604c-654c-4a3d-bb38-4fbbc37160cb"
      },
      "execution_count": 70,
      "outputs": [
        {
          "output_type": "stream",
          "name": "stdout",
          "text": [
            "              year      runtime       rating   metascore         votes  \\\n",
            "count  1000.000000  1000.000000  1000.000000  1000.00000  1.000000e+03   \n",
            "mean   1991.217217   122.891000     7.949300    77.97153  2.736929e+05   \n",
            "std      23.285362    28.093671     0.275491    11.36206  3.273727e+05   \n",
            "min    1920.000000    45.000000     7.600000    28.00000  2.508800e+04   \n",
            "25%    1976.000000   103.000000     7.700000    72.00000  5.552625e+04   \n",
            "50%    1999.000000   119.000000     7.900000    77.97153  1.385485e+05   \n",
            "75%    2009.000000   137.000000     8.100000    85.25000  3.741612e+05   \n",
            "max    2020.000000   321.000000     9.300000   100.00000  2.343110e+06   \n",
            "\n",
            "              gross  \n",
            "count  1.000000e+03  \n",
            "mean   6.803475e+07  \n",
            "std    1.000371e+08  \n",
            "min    1.305000e+03  \n",
            "25%    5.012919e+06  \n",
            "50%    4.238945e+07  \n",
            "75%    6.803475e+07  \n",
            "max    9.366622e+08  \n"
          ]
        }
      ]
    },
    {
      "cell_type": "code",
      "source": [
        "# Write a function which will return N highest rated movies of a given year.\n",
        "# It should accept dataframe, year and movie count N and return a new dataframe with top movies from imdb.\n",
        "# It should also be possible to get movies by metascore, instead of imdb rating.\n",
        "def rankingmovies(df):  # function that returns the n-highest-rated movies of a given year\n",
        "    while True: #I decided to make it sustainable so that user will enter the values untill it gets valid\n",
        "        year_input = input(\"Enter the year (earliest being 1920): \") #user inputting the year for year\n",
        "        if year_input.isdigit() and int(year_input) >= 1920: #Error values, I chose 1920 because the earliest movie is 1920 (checked by imdb['year'].min())\n",
        "            year = int(year_input) #year is integer\n",
        "            break #stop\n",
        "        print(f\"movies not found for {year_input}. Please enter a valid year(earliest being 1920).\") #printing that untill valid input\n",
        "\n",
        "    while True: #untill user input is right/as many times\n",
        "        cnt = input(\"Enter the number of top movies to retrieve: \") #user inputting the movie number for cnt\n",
        "        if cnt.isdigit() and int(cnt) > 0: #Error value would be anything less than 1 because it needs at least 1 movie to rate\n",
        "            n = int(cnt) #again int because we are working with integers\n",
        "            break #stop when it is right\n",
        "        print(\"There should be at least one movie\") #print that the input is not valid\n",
        "\n",
        "    while True:\n",
        "        by = input(\"Sort by 'rating' or 'metascore': \") #user chooses to rank either by rating or metascore\n",
        "        if by in ['rating', 'metascore']:\n",
        "            break\n",
        "        print(\"Please choose either 'rating' or 'metascore'\") #outputs this until user chooses one of them as a valid input\n",
        "\n",
        "    movies_of_year = df[df['year'] == year]  #filtering movies by year\n",
        "\n",
        "    if movies_of_year.empty:  # Checks if it is empty, and if it is, outputs the below text\n",
        "        print(f\"no movies found for {year}\")\n",
        "        return None\n",
        "\n",
        "    if by == 'rating': #sorting movies\n",
        "        top_movies = movies_of_year.sort_values(by='rating', ascending=False).head(n) #sorting movies by rating\n",
        "    else:\n",
        "        top_movies = movies_of_year.sort_values(by='metascore', ascending=False).head(n) #sorting movies by metascore\n",
        "\n",
        "    return top_movies #returning the top_movies (ranking)\n",
        "\n",
        "top_movies_df = rankingmovies(imdb) #calling the function to show the result (ranking) for user input\n",
        "\n",
        "if top_movies_df is not None: #if not empty, print\n",
        "    print(top_movies_df)\n",
        "\n",
        "task[5] = 5"
      ],
      "metadata": {
        "id": "fN3hEqV0Qnto",
        "colab": {
          "base_uri": "https://localhost:8080/"
        },
        "outputId": "4dc952b1-6072-441e-fc8d-132f7561eb82"
      },
      "execution_count": 156,
      "outputs": [
        {
          "output_type": "stream",
          "name": "stdout",
          "text": [
            "Enter the year (earliest being 1920): 1919\n",
            "movies not found for 1919. Please enter a valid year(earliest being 1920).\n",
            "Enter the year (earliest being 1920): 1920\n",
            "Enter the number of top movies to retrieve: 100\n",
            "Sort by 'rating' or 'metascore': rating\n",
            "                            title    year certificate  runtime  \\\n",
            "321  Das Cabinet des Dr. Caligari  1920.0         NaN       76   \n",
            "\n",
            "                        genre  rating  \\\n",
            "321  Fantasy, Horror, Mystery     8.1   \n",
            "\n",
            "                                              overview  metascore  \\\n",
            "321  Hypnotist Dr. Caligari uses a somnambulist, Ce...   77.97153   \n",
            "\n",
            "         director          star1         star2            star3        star4  \\\n",
            "321  Robert Wiene  Werner Krauss  Conrad Veidt  Friedrich Feher  Lil Dagover   \n",
            "\n",
            "     votes         gross  \n",
            "321  57428  6.803475e+07  \n"
          ]
        }
      ]
    },
    {
      "cell_type": "code",
      "source": [
        "# Print out the highest rated movie of every decade (e.g. 1980s) using your function above.\n",
        "def highest_rated_per_dec(df): #creating a function for it\n",
        "    decades = range(1920, 2021, 10) #I found the last movie year to be 2020 by the function imdb['year].max()\n",
        "    for first_decade in decades:\n",
        "        last_decade = first_decade + 9 #creates a start of each decade (each decade starts from 0 till 9 (1920-1929))\n",
        "        decade_movies = df[(df['year'] >= first_decade) & (df['year'] <= last_decade)] #indexing by year\n",
        "        if not decade_movies.empty:\n",
        "            highest_rated = decade_movies.loc[decade_movies['rating'].idxmax()] #finding the highest rated movie by finding biggest index\n",
        "            print(f\"highest rated movie of the {first_decade}s: {highest_rated['title']} (Rating: {highest_rated['rating']})\") #printing\n",
        "highest_rated_per_dec(imdb) #printing the function (the ratings of the highest ranked movie for each decade)\n",
        "task[6] = 5"
      ],
      "metadata": {
        "id": "P3JX44YJaWbi",
        "colab": {
          "base_uri": "https://localhost:8080/"
        },
        "outputId": "57532d18-9730-4375-c3a5-bcc89c6f1527"
      },
      "execution_count": 157,
      "outputs": [
        {
          "output_type": "stream",
          "name": "stdout",
          "text": [
            "highest rated movie of the 1920s: Metropolis (Rating: 8.3)\n",
            "highest rated movie of the 1930s: Modern Times (Rating: 8.5)\n",
            "highest rated movie of the 1940s: It's a Wonderful Life (Rating: 8.6)\n",
            "highest rated movie of the 1950s: 12 Angry Men (Rating: 9.0)\n",
            "highest rated movie of the 1960s: Il buono, il brutto, il cattivo (Rating: 8.8)\n",
            "highest rated movie of the 1970s: The Godfather (Rating: 9.2)\n",
            "highest rated movie of the 1980s: Star Wars: Episode V - The Empire Strikes Back (Rating: 8.7)\n",
            "highest rated movie of the 1990s: The Shawshank Redemption (Rating: 9.3)\n",
            "highest rated movie of the 2000s: The Dark Knight (Rating: 9.0)\n",
            "highest rated movie of the 2010s: Inception (Rating: 8.8)\n",
            "highest rated movie of the 2020s: Hamilton (Rating: 8.6)\n"
          ]
        }
      ]
    },
    {
      "cell_type": "code",
      "source": [
        "# Write a function which will get the commercially most successful N directors.\n",
        "def successful_directors(df, n):\n",
        "  director_gross = df.groupby('director')['gross'].sum() #using director and gross columns to group them together (to find the ones who get most money)\n",
        "  top_directors = director_gross.sort_values(ascending=False).head(n) #sorting gross in decreasing order\n",
        "\n",
        "  return top_directors\n",
        "\n",
        "while True: #letting user input as many times\n",
        "    try:\n",
        "        n = int(input(\"the number of directors: \"))  #user inputting\n",
        "        if n <= 0: #invalid input case\n",
        "            print(\"There should be at least 1 director\")\n",
        "            continue\n",
        "        break  #if input is valid\n",
        "    except ValueError: #str or float\n",
        "        print(\"Invalid input. Please enter a positive integer.\") #this output will be shown unless the input is right\n",
        "\n",
        "top_num_directors = successful_directors(imdb, n) #call the function with user input, n and imdb(the columns director and gross)\n",
        "print(top_num_directors)\n",
        "\n",
        "task[7] = 5"
      ],
      "metadata": {
        "id": "Jw2rlzVPTz33",
        "colab": {
          "base_uri": "https://localhost:8080/"
        },
        "outputId": "1a069874-a9c3-4323-b774-0db74699f76d"
      },
      "execution_count": 158,
      "outputs": [
        {
          "output_type": "stream",
          "name": "stdout",
          "text": [
            "the number of directors: 4\n",
            "director\n",
            "Steven Spielberg     2.478133e+09\n",
            "Anthony Russo        2.205039e+09\n",
            "Christopher Nolan    1.937454e+09\n",
            "James Cameron        1.748237e+09\n",
            "Name: gross, dtype: float64\n"
          ]
        }
      ]
    },
    {
      "cell_type": "code",
      "source": [
        "# Write a function which will get the commercially most successful N actors.\n",
        "def successful_actors(df, n):\n",
        "  #actor_gross = df.groupby[('star1')['gross'].sum(), ('star2')['gross'].sum(), ('star3')['gross'].sum(), ('star4')['gross'].sum()] #using actor columns to group them together (to find the ones who get most money)\n",
        "  actors_and_gross = df.melt(id_vars=['gross'], value_vars=['star1', 'star2', 'star3', 'star4'], var_name='star_role', value_name='actor') #melt is used in pandas to represent several columns together bc they represent the same data type, so I merged star1 to star4 by the name of actors\n",
        "  actor_gross = actors_and_gross.groupby('actor')['gross'].sum() #grouping by actor (previously merged star1 to star4)\n",
        "  top_actors = actor_gross.sort_values(ascending=False).head(n) #sorting in decreasing (ascending=False) order\n",
        "  return top_actors\n",
        "\n",
        "while True: #letting user input many times (condition based)\n",
        "    try:\n",
        "        n = int(input(\"the number of successful actors: \"))  #user inputting\n",
        "        if n<=0: #invalid input case\n",
        "            print(\"There should be at least 1 actor\")\n",
        "            continue\n",
        "        break  #if input is valid\n",
        "    except ValueError: #str or float\n",
        "        print(\"Invalid input. Please enter a positive integer.\") #this output will be shown unless the input is right\n",
        "\n",
        "top_actors = successful_actors(imdb, n)\n",
        "print(top_actors)\n",
        "\n",
        "task[9] = 5"
      ],
      "metadata": {
        "id": "G9JnRyetigWg",
        "colab": {
          "base_uri": "https://localhost:8080/"
        },
        "outputId": "33ca432d-729b-43e2-9db1-7909def63c6c"
      },
      "execution_count": 159,
      "outputs": [
        {
          "output_type": "stream",
          "name": "stdout",
          "text": [
            "the number of successful actors: 10\n",
            "actor\n",
            "Robert Downey Jr.    3.129073e+09\n",
            "Tom Hanks            2.903565e+09\n",
            "Chris Evans          2.339664e+09\n",
            "Joe Russo            2.205039e+09\n",
            "Mark Ruffalo         2.126430e+09\n",
            "Leonardo DiCaprio    2.049297e+09\n",
            "Ian McKellen         1.869869e+09\n",
            "Rupert Grint         1.835901e+09\n",
            "Daniel Radcliffe     1.835901e+09\n",
            "Matt Damon           1.728542e+09\n",
            "Name: gross, dtype: float64\n"
          ]
        }
      ]
    },
    {
      "cell_type": "code",
      "source": [
        "# Write a function to find actors who starred the most amount of times in top movies.\n",
        "# (imdb rating 8 or more, metascore 90 or more)\n",
        "def actors_starred_most(df):\n",
        "  top_movies = df[(df['rating'] >= 8) & (df['metascore'] >= 90)] #imdb rating 8 or more, metascore 90 or more\n",
        "  list_of_actors = pd.concat([top_movies['star1'], top_movies['star2'], top_movies['star3'], top_movies['star4']]) #this concat function helps to call several columns at the same time, and we call all the ones with actors\n",
        "  actor_cnt =list_of_actors.value_counts() #counting how many time they have appeared\n",
        "  return actor_cnt\n",
        "\n",
        "actor_cnt = actors_starred_most(imdb) #calling the main function imdb to retrieve\n",
        "print(actor_cnt)\n",
        "# Who is at the top of the list?\n",
        "print(\"actor at the top of the list:\", actor_cnt.index[0]) #printing the actor at the top of the list\n",
        "task[8] = 5"
      ],
      "metadata": {
        "id": "ZwjH3kbHUWoY",
        "colab": {
          "base_uri": "https://localhost:8080/"
        },
        "outputId": "d538c973-da95-4870-c6af-28d4e7442e96"
      },
      "execution_count": 160,
      "outputs": [
        {
          "output_type": "stream",
          "name": "stdout",
          "text": [
            "James Stewart      5\n",
            "Marlon Brando      4\n",
            "Robert De Niro     3\n",
            "Orson Welles       3\n",
            "Humphrey Bogart    3\n",
            "                  ..\n",
            "Merna Kennedy      1\n",
            "Sam Wood           1\n",
            "Mark Hamill        1\n",
            "Jean Martin        1\n",
            "Ivan Bobrov        1\n",
            "Name: count, Length: 347, dtype: int64\n",
            "actor at the top of the list: James Stewart\n"
          ]
        }
      ]
    },
    {
      "cell_type": "code",
      "source": [
        "# Write a function which will find the highest rated movie by a given genre.\n",
        "# Both imdb rating and metascore options should exist.\n",
        "# Add a flag which will choose among movies with only one genre (e.g. just Comedy)\n",
        "def highest_rated_movie_by_genre(df, genre, by='rating', single_genre=False): #genre, rating, and considering movies with all genres\n",
        "  if single_genre: # single_genre is set to true (movies with a single genre) are:\n",
        "        moviegenre=df[df['genre'].str.contains(',', na=True)] #if there is no ',' in a list of genres, it basically means that there is just one genre\n",
        "        moviegenre=moviegenre[moviegenre['genre'].str.contains(genre, case=False, na=False)] #moviegenre is a subsite of df, only including single genre movies. It accesses the genre column of imdb. case=False ignores the upper/lowercase scenario(Comedy=comedy), na=False ignores NaN values so that they are not involved in the results\n",
        "  else:\n",
        "        moviegenre = df[df['genre'].str.contains(genre, case=False, na=False)] #the function takes all the genres of multi-genre movies\n",
        "  if moviegenre.empty: #if nothing is inputted\n",
        "        print(f\"no movies found for {genre}\") #print this\n",
        "        return None\n",
        "  if by== 'rating': #if user chooses to classify by rating\n",
        "        highest_rated = moviegenre.loc[moviegenre['rating'].idxmax()] #loc function accesses the rating colum (using the highest index finds the highest rated based on rating)\n",
        "  elif by == 'metascore': #if user chooses metascore criteria\n",
        "        highest_rated = moviegenre.loc[moviegenre['metascore'].idxmax()] #loc function acceses the metascore column (using the highest index finds the highest rated based on metascore)\n",
        "  else: #if invalid\n",
        "        print(\"Please choose either 'rating' or 'metascore'\") #invalid input\n",
        "        return None\n",
        "\n",
        "  return highest_rated\n",
        "\n",
        "while True: #user will enter as many times as he/she wants (a condition loop)\n",
        "    genre_input= input(\"enter the genre: \") #user inputs the movie genre\n",
        "    single_genre_input = input(\"Consider movies with only one genre ('yes' or 'no'):\").strip().lower()\n",
        "    rtng_type = input(\"based on 'rating' or 'metascore'? \").strip().lower() #extra spaces (by strip()) are ignored and the same about uppercases, they are transformed to lowercases (lowwer())\n",
        "\n",
        "    highest_movie =highest_rated_movie_by_genre(imdb, genre_input, by=rtng_type) #defining highes_movie as the genre\n",
        "\n",
        "    if highest_movie is not None: #if there is a valid result\n",
        "        print(f\"Highest rated movie in genre {genre_input} (based on {rtng_type}): {highest_movie['title']} (Rating:{highest_movie['rating']}, Metascore:{highest_movie['metascore']})\") #organizing the sentence to first show the genre, then the criteria (rating/metascore), then the movie name, and I also decided to include both rating and metascore as well for clarity\n",
        "task[10] = 5"
      ],
      "metadata": {
        "id": "NKeOULZfYgNm",
        "colab": {
          "base_uri": "https://localhost:8080/"
        },
        "outputId": "275bbc8f-dd6c-49e3-fc0a-4859cdc45f41"
      },
      "execution_count": null,
      "outputs": [
        {
          "output_type": "stream",
          "name": "stdout",
          "text": [
            "enter the genre: comedy\n",
            "Consider movies with only one genre ('yes' or 'no'):yes\n",
            "based on 'rating' or 'metascore'? metascore\n",
            "Highest rated movie in genre comedy (based on metascore): City Lights (Rating:8.5, Metascore:99.0)\n",
            "enter the genre: comedy\n",
            "Consider movies with only one genre ('yes' or 'no'):no\n",
            "based on 'rating' or 'metascore'? metascore\n",
            "Highest rated movie in genre comedy (based on metascore): City Lights (Rating:8.5, Metascore:99.0)\n",
            "enter the genre: drama\n",
            "Consider movies with only one genre ('yes' or 'no'):no\n",
            "based on 'rating' or 'metascore'? rating\n",
            "Highest rated movie in genre drama (based on rating): The Shawshank Redemption (Rating:9.3, Metascore:80.0)\n",
            "enter the genre: drama\n",
            "Consider movies with only one genre ('yes' or 'no'):yes\n",
            "based on 'rating' or 'metascore'? rating\n",
            "Highest rated movie in genre drama (based on rating): The Shawshank Redemption (Rating:9.3, Metascore:80.0)\n"
          ]
        }
      ]
    },
    {
      "cell_type": "code",
      "source": [
        "# Get all the possible genres and store them in a Series variable.\n",
        "# Call the function you created and print out the top movies by every genre.\n",
        "task[11] = 5"
      ],
      "metadata": {
        "id": "nPe951ZIb1B0"
      },
      "execution_count": null,
      "outputs": []
    },
    {
      "cell_type": "code",
      "source": [
        "# Write a function which will find the most common genre by a decade.\n",
        "# What is the most common genre of 1970s? Or 1980s? Why?\n",
        "task[12] = 5"
      ],
      "metadata": {
        "id": "SzqcW9B5iLob"
      },
      "execution_count": null,
      "outputs": []
    },
    {
      "cell_type": "code",
      "source": [
        "# Find great movies which are not well known.\n",
        "# Get movie names which have 20,000 votes or less, while\n",
        "# having rating of 8 or more. Make an option for metascore (90 or more).\n",
        "task[13] = 5"
      ],
      "metadata": {
        "id": "l5ovdvN4ckMK"
      },
      "execution_count": null,
      "outputs": []
    },
    {
      "cell_type": "code",
      "source": [
        "# Write a function which will return a dictionary of statistics about a director:\n",
        "# - Movie Title Series with year\n",
        "# - Best rated movie(s)\n",
        "# - Worst rated movie(s)\n",
        "# - The average imdb rating of movies\n",
        "# - The average metascore of movies\n",
        "# - The average runtime of movies\n",
        "# - The total gross (box office) revenue\n",
        "# - Genres of movies directed\n",
        "task[14] = 10"
      ],
      "metadata": {
        "id": "k3aXe7yfdeBZ"
      },
      "execution_count": null,
      "outputs": []
    },
    {
      "cell_type": "code",
      "source": [
        "# Write a function which should plot a histogram showing movie frequency by every year\n",
        "# Function should accept a range of start year and end year.\n",
        "task[15] = 10"
      ],
      "metadata": {
        "id": "Xj_xIrp5iA_F"
      },
      "execution_count": null,
      "outputs": []
    },
    {
      "cell_type": "code",
      "source": [
        "# Write a function which will accept a numpy array of director names\n",
        "# and generate a bar chart based on the movie count of each director\n",
        "task[16] = 10"
      ],
      "metadata": {
        "id": "1l5QoRb4lqug"
      },
      "execution_count": null,
      "outputs": []
    },
    {
      "cell_type": "code",
      "source": [
        "# Find and plot correlation between columns:\n",
        "# - year and gross\n",
        "# - year and runtime\n",
        "# - runtime and gross\n",
        "# - rating (for both imdb and metascore) and gross\n",
        "# - rating and runtime\n",
        "# Explain for each case why we may see such results\n",
        "task[17] = 15"
      ],
      "metadata": {
        "id": "_oJS1Yw0mUBJ"
      },
      "execution_count": null,
      "outputs": []
    },
    {
      "cell_type": "code",
      "source": [
        "task.sum()"
      ],
      "metadata": {
        "colab": {
          "base_uri": "https://localhost:8080/"
        },
        "id": "TeoWKa2PgWLu",
        "outputId": "1e65a19c-df1a-4ad2-a07a-88281cf7efd4"
      },
      "execution_count": 143,
      "outputs": [
        {
          "output_type": "execute_result",
          "data": {
            "text/plain": [
              "35"
            ]
          },
          "metadata": {},
          "execution_count": 143
        }
      ]
    }
  ]
}
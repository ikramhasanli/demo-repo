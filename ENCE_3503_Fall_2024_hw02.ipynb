{
  "nbformat": 4,
  "nbformat_minor": 0,
  "metadata": {
    "colab": {
      "provenance": [],
      "include_colab_link": true
    },
    "kernelspec": {
      "name": "python3",
      "display_name": "Python 3"
    },
    "language_info": {
      "name": "python"
    }
  },
  "cells": [
    {
      "cell_type": "markdown",
      "metadata": {
        "id": "view-in-github",
        "colab_type": "text"
      },
      "source": [
        "<a href=\"https://colab.research.google.com/github/ikramhasanli/demo-repo/blob/main/ENCE_3503_Fall_2024_hw02.ipynb\" target=\"_parent\"><img src=\"https://colab.research.google.com/assets/colab-badge.svg\" alt=\"Open In Colab\"/></a>"
      ]
    },
    {
      "cell_type": "markdown",
      "source": [
        "# ENCE 3503: Fall 2024 Homework 2"
      ],
      "metadata": {
        "id": "rOdt7l5BIdBy"
      }
    },
    {
      "cell_type": "markdown",
      "source": [
        "## Submission Instructions\n",
        "**Latest attempt** will be graded. Not following any one of the instructions below will result in **zero grade**:\n",
        "\n",
        "- Rename your file by including your student information (Name and ID): **ENCE_3503_Fall_2024_hw02_StudentName_ID.ipynb**\n",
        "- Submit your updated `.ipynb` file to your **Github Classroom Repository** (accept it at: https://classroom.github.com/a/5w6zTZ3-)\n",
        "- Submit your updated `.ipynb` file to **Blackboard**.\n",
        "- Update **Student Information** (see below)."
      ],
      "metadata": {
        "id": "yXoa-aiVH43E"
      }
    },
    {
      "cell_type": "markdown",
      "source": [
        "## Student Information\n",
        "\n",
        "**Full Name:** Ikram Hasanli\n",
        "\n",
        "**ID:** 15235\n",
        "\n",
        "**Github Repository URL:** https://github.com/ADA-SITE-ENCE-3503/pandas-matplotlib-ikramhasanli"
      ],
      "metadata": {
        "id": "MChims5UIa2n"
      }
    },
    {
      "cell_type": "markdown",
      "source": [
        "## Homework Instructions\n",
        "\n",
        "In all tasks, you should preferably **add additional cells and markdown comments** as necessary. You should handle possible **exceptional cases** and test your functions. Generally, you have flexibility on how you handle the problem, but all the written **instructions** must be met. Your code should be clear and understandable. Don't remove any comment/cell that the notebook already has."
      ],
      "metadata": {
        "id": "ob1pQ6nbMCAL"
      }
    },
    {
      "cell_type": "markdown",
      "source": [
        "Download **IMDB Top 1000** movies database (`.csv`) file from https://www.kaggle.com/datasets/harshitshankhdhar/imdb-dataset-of-top-1000-movies-and-tv-shows."
      ],
      "metadata": {
        "id": "OsXIXYuIoajp"
      }
    },
    {
      "cell_type": "code",
      "source": [
        "# Import libraries (run the cell)\n",
        "import numpy as np\n",
        "import pandas as pd\n",
        "import matplotlib.pyplot as plt\n",
        "%matplotlib inline"
      ],
      "metadata": {
        "id": "pH5ZKoZvPDa3"
      },
      "execution_count": 54,
      "outputs": []
    },
    {
      "cell_type": "code",
      "source": [
        "# Uncomment and run the code below if you are working in google colab to upload the csv\n",
        "from google.colab import drive\n",
        "drive.mount('/content/drive')\n",
        "\n",
        "import pandas as pd\n",
        "\n",
        "df = pd.read_csv('/content/drive/MyDrive/imdb_top_1000.csv')\n",
        "\n"
      ],
      "metadata": {
        "id": "aG-BDSAcMlVc",
        "colab": {
          "base_uri": "https://localhost:8080/"
        },
        "outputId": "7d86990a-ef64-4680-974e-295b95c1a963"
      },
      "execution_count": 55,
      "outputs": [
        {
          "output_type": "stream",
          "name": "stdout",
          "text": [
            "Drive already mounted at /content/drive; to attempt to forcibly remount, call drive.mount(\"/content/drive\", force_remount=True).\n"
          ]
        }
      ]
    },
    {
      "cell_type": "code",
      "source": [
        "# Update the csv filepath below accordingly and run this cell to import csv\n",
        "filepath = \"/content/drive/MyDrive/imdb_top_1000\" # update this line\n",
        "imdb = pd.read_csv(filepath + '.csv')"
      ],
      "metadata": {
        "id": "kzZJmVxxM_PX"
      },
      "execution_count": 61,
      "outputs": []
    },
    {
      "cell_type": "code",
      "source": [
        "# The code below is for grading. It is ok to run such cells, but you won't use them.\n",
        "task = np.zeros(100, dtype=np.uint8)"
      ],
      "metadata": {
        "id": "3zvBUaM4U-Ut"
      },
      "execution_count": 62,
      "outputs": []
    },
    {
      "cell_type": "code",
      "source": [
        "# Print out columns, then rename them however you wish (make them simpler).\n",
        "print('Original columns: ', imdb.columns)\n",
        "imdb.rename(columns={'Poster_Link': 'poster', 'Series_Title': 'title', 'Released_Year': 'year', 'Certificate': 'certificate', 'Runtime': 'runtime', 'Genre':'genre', 'IMDB_Rating': 'rating', 'Overview': 'overview', 'Meta_score': 'metascore', 'Director': 'director', 'Star1': 'star1', 'Star2': 'star2', 'Star3': 'star3', 'Star4': 'star4', 'No_of_Votes': 'votes', 'Gross': 'gross'}, inplace=True) #I simplified the words for much easier future usage (by trying to avoid '_' or uppercase letters)\n",
        "# Drop/delete poster column.\n",
        "imdb.drop('poster', axis=1, inplace=True) #Via curiosity, I realized for this to run, this box should run once only (as afterwards, there will not be any 'poster' column anymore, and it will not be able to be removed, which leads to an error)\n",
        "print('New columns: ', imdb.columns)\n",
        "# Show first 3 rows.\n",
        "print(imdb.head(3)) #it did not print without print\n",
        "task[1] = 1 # Task 1 gives 1 point."
      ],
      "metadata": {
        "id": "OreKO5KFNHgJ",
        "colab": {
          "base_uri": "https://localhost:8080/"
        },
        "outputId": "24003bec-1187-4b5f-edb2-1e8bad7f49ab"
      },
      "execution_count": 63,
      "outputs": [
        {
          "output_type": "stream",
          "name": "stdout",
          "text": [
            "Original columns:  Index(['Poster_Link', 'Series_Title', 'Released_Year', 'Certificate',\n",
            "       'Runtime', 'Genre', 'IMDB_Rating', 'Overview', 'Meta_score', 'Director',\n",
            "       'Star1', 'Star2', 'Star3', 'Star4', 'No_of_Votes', 'Gross'],\n",
            "      dtype='object')\n",
            "New columns:  Index(['title', 'year', 'certificate', 'runtime', 'genre', 'rating',\n",
            "       'overview', 'metascore', 'director', 'star1', 'star2', 'star3', 'star4',\n",
            "       'votes', 'gross'],\n",
            "      dtype='object')\n",
            "                      title  year certificate  runtime                 genre  \\\n",
            "0  The Shawshank Redemption  1994           A  142 min                 Drama   \n",
            "1             The Godfather  1972           A  175 min          Crime, Drama   \n",
            "2           The Dark Knight  2008          UA  152 min  Action, Crime, Drama   \n",
            "\n",
            "   rating                                           overview  metascore  \\\n",
            "0     9.3  Two imprisoned men bond over a number of years...       80.0   \n",
            "1     9.2  An organized crime dynasty's aging patriarch t...      100.0   \n",
            "2     9.0  When the menace known as the Joker wreaks havo...       84.0   \n",
            "\n",
            "               director           star1           star2          star3  \\\n",
            "0        Frank Darabont     Tim Robbins  Morgan Freeman     Bob Gunton   \n",
            "1  Francis Ford Coppola   Marlon Brando       Al Pacino     James Caan   \n",
            "2     Christopher Nolan  Christian Bale    Heath Ledger  Aaron Eckhart   \n",
            "\n",
            "            star4    votes        gross  \n",
            "0  William Sadler  2343110   28,341,469  \n",
            "1    Diane Keaton  1620367  134,966,411  \n",
            "2   Michael Caine  2303232  534,858,444  \n"
          ]
        }
      ]
    },
    {
      "cell_type": "code",
      "source": [
        "# Show relevant statistics about the data (e.g. five number summary).\n",
        "print(imdb.describe()) #this code shows basic relevant statistics for numerical columns, there seems to be string values in 'Year' and 'gross' columns because they were not printed. Also, in 'runtime' the statistics cannot be calculated because of 'min'\n",
        "# Explain what you understand from this summary.\n",
        "task[2] = 3"
      ],
      "metadata": {
        "id": "nFMu0bQpPXUh",
        "colab": {
          "base_uri": "https://localhost:8080/"
        },
        "outputId": "22462fd3-3339-452a-87d5-01bad015927b"
      },
      "execution_count": 64,
      "outputs": [
        {
          "output_type": "stream",
          "name": "stdout",
          "text": [
            "            rating   metascore         votes\n",
            "count  1000.000000  843.000000  1.000000e+03\n",
            "mean      7.949300   77.971530  2.736929e+05\n",
            "std       0.275491   12.376099  3.273727e+05\n",
            "min       7.600000   28.000000  2.508800e+04\n",
            "25%       7.700000   70.000000  5.552625e+04\n",
            "50%       7.900000   79.000000  1.385485e+05\n",
            "75%       8.100000   87.000000  3.741612e+05\n",
            "max       9.300000  100.000000  2.343110e+06\n"
          ]
        }
      ]
    },
    {
      "cell_type": "code",
      "source": [
        "# Analyze your data. Is there missing (NaN) or incorrect values? What are they? # there seems to be string values in 'Year' and 'gross' columns because they were not printed. Also, in 'runtime' the statistics cannot be calculated because of 'min'\n",
        "# Are there imprecise data types (e.g. string instead of integer)? Fix/populate them.\n",
        "imdb['year'] = pd.to_numeric(imdb['year'], errors='coerce') #year column has strings instead of ints in some rows, so we are ensuring that they are shown as \"NaN\" not to affect the result\n",
        "imdb['gross'] = imdb['gross'].astype(str).str.replace(r'[$,]', '', regex=True) # we remove \"$\" sings from this (I wrote it with 2 lines because in the previous there were not mixtures of int and string in 1 line, but separate)\n",
        "imdb['gross'] = pd.to_numeric(imdb['gross'], errors='coerce') # we change all the non-numeric values (strings) to \"NaN\"\n",
        "imdb['runtime'] = imdb['runtime'].astype(str).str.replace(r' min', '', regex=True) #removing the 'min' str to calculate the mean\n",
        "imdb['runtime'] = pd.to_numeric(imdb['runtime'], errors='coerce')  # considering all the non-numeric values in this column as \"NaN\"\n",
        "for a in ['year', 'votes', 'metascore', 'gross', 'runtime']: #we replace \"NaN\"s with the mean to make it accurate\n",
        "    imdb[a] = imdb[a].fillna(imdb[a].mean()) #filling NaN with the mean values\n",
        "print(imdb.describe()) #printing 5 number summary\n",
        "task[3] = 4"
      ],
      "metadata": {
        "id": "4qJDMxRjP-ps",
        "colab": {
          "base_uri": "https://localhost:8080/"
        },
        "outputId": "f46ec832-4771-4855-b16c-861acfccfdaf"
      },
      "execution_count": 66,
      "outputs": [
        {
          "output_type": "stream",
          "name": "stdout",
          "text": [
            "              year      runtime       rating   metascore         votes  \\\n",
            "count  1000.000000  1000.000000  1000.000000  1000.00000  1.000000e+03   \n",
            "mean   1991.217217   122.891000     7.949300    77.97153  2.736929e+05   \n",
            "std      23.285362    28.093671     0.275491    11.36206  3.273727e+05   \n",
            "min    1920.000000    45.000000     7.600000    28.00000  2.508800e+04   \n",
            "25%    1976.000000   103.000000     7.700000    72.00000  5.552625e+04   \n",
            "50%    1999.000000   119.000000     7.900000    77.97153  1.385485e+05   \n",
            "75%    2009.000000   137.000000     8.100000    85.25000  3.741612e+05   \n",
            "max    2020.000000   321.000000     9.300000   100.00000  2.343110e+06   \n",
            "\n",
            "              gross  \n",
            "count  1.000000e+03  \n",
            "mean   6.803475e+07  \n",
            "std    1.000371e+08  \n",
            "min    1.305000e+03  \n",
            "25%    5.012919e+06  \n",
            "50%    4.238945e+07  \n",
            "75%    6.803475e+07  \n",
            "max    9.366622e+08  \n"
          ]
        }
      ]
    },
    {
      "cell_type": "code",
      "source": [
        "# Generate statistics again. What new do you see? What does it tell you?\n",
        "task[4] = 2"
      ],
      "metadata": {
        "id": "aLw0IaYseb--"
      },
      "execution_count": null,
      "outputs": []
    },
    {
      "cell_type": "code",
      "source": [
        "# Write a function which will return N highest rated movies of a given year.\n",
        "# It should accept dataframe, year and movie count N and return a new dataframe with top movies from imdb.\n",
        "# It should also be possible to get movies by metascore, instead of imdb rating.\n",
        "task[5] = 5"
      ],
      "metadata": {
        "id": "fN3hEqV0Qnto"
      },
      "execution_count": null,
      "outputs": []
    },
    {
      "cell_type": "code",
      "source": [
        "# Print out the highest rated movie of every decade (e.g. 1980s) using your function above.\n",
        "task[6] = 5"
      ],
      "metadata": {
        "id": "P3JX44YJaWbi"
      },
      "execution_count": null,
      "outputs": []
    },
    {
      "cell_type": "code",
      "source": [
        "# Write a function which will get the commercially most successful N directors.\n",
        "task[7] = 5"
      ],
      "metadata": {
        "id": "Jw2rlzVPTz33"
      },
      "execution_count": null,
      "outputs": []
    },
    {
      "cell_type": "code",
      "source": [
        "# Write a function to find actors who starred the most amount of times in top movies.\n",
        "# (imdb rating 8 or more, metascore 90 or more)\n",
        "# Who is at the top of the list?\n",
        "task[8] = 5"
      ],
      "metadata": {
        "id": "ZwjH3kbHUWoY"
      },
      "execution_count": null,
      "outputs": []
    },
    {
      "cell_type": "code",
      "source": [
        "# Write a function which will get the commercially most successful N actors.\n",
        "task[9] = 5"
      ],
      "metadata": {
        "id": "G9JnRyetigWg"
      },
      "execution_count": null,
      "outputs": []
    },
    {
      "cell_type": "code",
      "source": [
        "# Write a function which will find the highest rated movie by a given genre.\n",
        "# Both imdb rating and metascore options should exist.\n",
        "# Add a flag which will choose among movies with only one genre (e.g. just Comedy)\n",
        "task[10] = 5"
      ],
      "metadata": {
        "id": "NKeOULZfYgNm"
      },
      "execution_count": null,
      "outputs": []
    },
    {
      "cell_type": "code",
      "source": [
        "# Get all the possible genres and store them in a Series variable.\n",
        "# Call the function you created and print out the top movies by every genre.\n",
        "task[11] = 5"
      ],
      "metadata": {
        "id": "nPe951ZIb1B0"
      },
      "execution_count": null,
      "outputs": []
    },
    {
      "cell_type": "code",
      "source": [
        "# Write a function which will find the most common genre by a decade.\n",
        "# What is the most common genre of 1970s? Or 1980s? Why?\n",
        "task[12] = 5"
      ],
      "metadata": {
        "id": "SzqcW9B5iLob"
      },
      "execution_count": null,
      "outputs": []
    },
    {
      "cell_type": "code",
      "source": [
        "# Find great movies which are not well known.\n",
        "# Get movie names which have 20,000 votes or less, while\n",
        "# having rating of 8 or more. Make an option for metascore (90 or more).\n",
        "task[13] = 5"
      ],
      "metadata": {
        "id": "l5ovdvN4ckMK"
      },
      "execution_count": null,
      "outputs": []
    },
    {
      "cell_type": "code",
      "source": [
        "# Write a function which will return a dictionary of statistics about a director:\n",
        "# - Movie Title Series with year\n",
        "# - Best rated movie(s)\n",
        "# - Worst rated movie(s)\n",
        "# - The average imdb rating of movies\n",
        "# - The average metascore of movies\n",
        "# - The average runtime of movies\n",
        "# - The total gross (box office) revenue\n",
        "# - Genres of movies directed\n",
        "task[14] = 10"
      ],
      "metadata": {
        "id": "k3aXe7yfdeBZ"
      },
      "execution_count": null,
      "outputs": []
    },
    {
      "cell_type": "code",
      "source": [
        "# Write a function which should plot a histogram showing movie frequency by every year\n",
        "# Function should accept a range of start year and end year.\n",
        "task[15] = 10"
      ],
      "metadata": {
        "id": "Xj_xIrp5iA_F"
      },
      "execution_count": null,
      "outputs": []
    },
    {
      "cell_type": "code",
      "source": [
        "# Write a function which will accept a numpy array of director names\n",
        "# and generate a bar chart based on the movie count of each director\n",
        "task[16] = 10"
      ],
      "metadata": {
        "id": "1l5QoRb4lqug"
      },
      "execution_count": null,
      "outputs": []
    },
    {
      "cell_type": "code",
      "source": [
        "# Find and plot correlation between columns:\n",
        "# - year and gross\n",
        "# - year and runtime\n",
        "# - runtime and gross\n",
        "# - rating (for both imdb and metascore) and gross\n",
        "# - rating and runtime\n",
        "# Explain for each case why we may see such results\n",
        "task[17] = 15"
      ],
      "metadata": {
        "id": "_oJS1Yw0mUBJ"
      },
      "execution_count": null,
      "outputs": []
    },
    {
      "cell_type": "code",
      "source": [
        "task.sum()"
      ],
      "metadata": {
        "colab": {
          "base_uri": "https://localhost:8080/"
        },
        "id": "TeoWKa2PgWLu",
        "outputId": "e6fa5224-4b86-4806-b549-a722670170e3"
      },
      "execution_count": null,
      "outputs": [
        {
          "output_type": "execute_result",
          "data": {
            "text/plain": [
              "100"
            ]
          },
          "metadata": {},
          "execution_count": 109
        }
      ]
    }
  ]
}
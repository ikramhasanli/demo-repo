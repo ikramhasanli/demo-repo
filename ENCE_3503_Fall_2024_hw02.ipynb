{
  "nbformat": 4,
  "nbformat_minor": 0,
  "metadata": {
    "colab": {
      "provenance": [],
      "include_colab_link": true
    },
    "kernelspec": {
      "name": "python3",
      "display_name": "Python 3"
    },
    "language_info": {
      "name": "python"
    }
  },
  "cells": [
    {
      "cell_type": "markdown",
      "metadata": {
        "id": "view-in-github",
        "colab_type": "text"
      },
      "source": [
        "<a href=\"https://colab.research.google.com/github/ikramhasanli/demo-repo/blob/main/ENCE_3503_Fall_2024_hw02.ipynb\" target=\"_parent\"><img src=\"https://colab.research.google.com/assets/colab-badge.svg\" alt=\"Open In Colab\"/></a>"
      ]
    },
    {
      "cell_type": "markdown",
      "source": [
        "# ENCE 3503: Fall 2024 Homework 2"
      ],
      "metadata": {
        "id": "rOdt7l5BIdBy"
      }
    },
    {
      "cell_type": "markdown",
      "source": [
        "## Submission Instructions\n",
        "**Latest attempt** will be graded. Not following any one of the instructions below will result in **zero grade**:\n",
        "\n",
        "- Rename your file by including your student information (Name and ID): **ENCE_3503_Fall_2024_hw02_StudentName_ID.ipynb**\n",
        "- Submit your updated `.ipynb` file to your **Github Classroom Repository** (accept it at: https://classroom.github.com/a/5w6zTZ3-)\n",
        "- Submit your updated `.ipynb` file to **Blackboard**.\n",
        "- Update **Student Information** (see below)."
      ],
      "metadata": {
        "id": "yXoa-aiVH43E"
      }
    },
    {
      "cell_type": "markdown",
      "source": [
        "## Student Information\n",
        "\n",
        "**Full Name:** Ikram Hasanli\n",
        "\n",
        "**ID:** 15235\n",
        "\n",
        "**Github Repository URL:** https://github.com/ADA-SITE-ENCE-3503/pandas-matplotlib-ikramhasanli"
      ],
      "metadata": {
        "id": "MChims5UIa2n"
      }
    },
    {
      "cell_type": "markdown",
      "source": [
        "## Homework Instructions\n",
        "\n",
        "In all tasks, you should preferably **add additional cells and markdown comments** as necessary. You should handle possible **exceptional cases** and test your functions. Generally, you have flexibility on how you handle the problem, but all the written **instructions** must be met. Your code should be clear and understandable. Don't remove any comment/cell that the notebook already has."
      ],
      "metadata": {
        "id": "ob1pQ6nbMCAL"
      }
    },
    {
      "cell_type": "markdown",
      "source": [
        "Download **IMDB Top 1000** movies database (`.csv`) file from https://www.kaggle.com/datasets/harshitshankhdhar/imdb-dataset-of-top-1000-movies-and-tv-shows."
      ],
      "metadata": {
        "id": "OsXIXYuIoajp"
      }
    },
    {
      "cell_type": "code",
      "source": [
        "# Import libraries (run the cell)\n",
        "import numpy as np\n",
        "import pandas as pd\n",
        "import matplotlib.pyplot as plt\n",
        "%matplotlib inline"
      ],
      "metadata": {
        "id": "pH5ZKoZvPDa3"
      },
      "execution_count": null,
      "outputs": []
    },
    {
      "cell_type": "code",
      "source": [
        "# Uncomment and run the code below if you are working in google colab to upload the csv\n",
        "from google.colab import drive\n",
        "drive.mount('/content/drive')\n",
        "\n",
        "import pandas as pd\n",
        "\n",
        "df = pd.read_csv('/content/drive/MyDrive/imdb_top_1000.csv')\n",
        "\n"
      ],
      "metadata": {
        "id": "aG-BDSAcMlVc",
        "colab": {
          "base_uri": "https://localhost:8080/"
        },
        "outputId": "9d6ddd06-7237-4290-b136-87c855d31165"
      },
      "execution_count": 2,
      "outputs": [
        {
          "output_type": "stream",
          "name": "stdout",
          "text": [
            "Mounted at /content/drive\n"
          ]
        }
      ]
    },
    {
      "cell_type": "code",
      "source": [
        "# Update the csv filepath below accordingly and run this cell to import csv\n",
        "filepath = \"/content/drive/MyDrive/imdb_top_1000\" # update this line\n",
        "imdb = pd.read_csv(filepath + '.csv')"
      ],
      "metadata": {
        "id": "kzZJmVxxM_PX"
      },
      "execution_count": 8,
      "outputs": []
    },
    {
      "cell_type": "code",
      "source": [
        "# The code below is for grading. It is ok to run such cells, but you won't use them.\n",
        "task = np.zeros(100, dtype=np.uint8)"
      ],
      "metadata": {
        "id": "3zvBUaM4U-Ut"
      },
      "execution_count": null,
      "outputs": []
    },
    {
      "cell_type": "code",
      "source": [
        "# Print out columns, then rename them however you wish (make them simpler).\n",
        "# Drop/delete poster column.\n",
        "# Show first 3 rows.\n",
        "task[1] = 1 # Task 1 gives 1 point."
      ],
      "metadata": {
        "id": "OreKO5KFNHgJ"
      },
      "execution_count": null,
      "outputs": []
    },
    {
      "cell_type": "code",
      "source": [
        "# Show relevant statistics about the data (e.g. five number summary).\n",
        "# Explain what you understand from this summary.\n",
        "task[2] = 3"
      ],
      "metadata": {
        "id": "nFMu0bQpPXUh"
      },
      "execution_count": null,
      "outputs": []
    },
    {
      "cell_type": "code",
      "source": [
        "# Analyze your data. Is there missing (NaN) or incorrect values? What are they?\n",
        "# Are there imprecise data types (e.g. string instead of integer)? Fix/populate them.\n",
        "task[3] = 4"
      ],
      "metadata": {
        "id": "4qJDMxRjP-ps"
      },
      "execution_count": null,
      "outputs": []
    },
    {
      "cell_type": "code",
      "source": [
        "# Generate statistics again. What new do you see? What does it tell you?\n",
        "task[4] = 2"
      ],
      "metadata": {
        "id": "aLw0IaYseb--"
      },
      "execution_count": null,
      "outputs": []
    },
    {
      "cell_type": "code",
      "source": [
        "# Write a function which will return N highest rated movies of a given year.\n",
        "# It should accept dataframe, year and movie count N and return a new dataframe with top movies from imdb.\n",
        "# It should also be possible to get movies by metascore, instead of imdb rating.\n",
        "task[5] = 5"
      ],
      "metadata": {
        "id": "fN3hEqV0Qnto"
      },
      "execution_count": null,
      "outputs": []
    },
    {
      "cell_type": "code",
      "source": [
        "# Print out the highest rated movie of every decade (e.g. 1980s) using your function above.\n",
        "task[6] = 5"
      ],
      "metadata": {
        "id": "P3JX44YJaWbi"
      },
      "execution_count": null,
      "outputs": []
    },
    {
      "cell_type": "code",
      "source": [
        "# Write a function which will get the commercially most successful N directors.\n",
        "task[7] = 5"
      ],
      "metadata": {
        "id": "Jw2rlzVPTz33"
      },
      "execution_count": null,
      "outputs": []
    },
    {
      "cell_type": "code",
      "source": [
        "# Write a function to find actors who starred the most amount of times in top movies.\n",
        "# (imdb rating 8 or more, metascore 90 or more)\n",
        "# Who is at the top of the list?\n",
        "task[8] = 5"
      ],
      "metadata": {
        "id": "ZwjH3kbHUWoY"
      },
      "execution_count": null,
      "outputs": []
    },
    {
      "cell_type": "code",
      "source": [
        "# Write a function which will get the commercially most successful N actors.\n",
        "task[9] = 5"
      ],
      "metadata": {
        "id": "G9JnRyetigWg"
      },
      "execution_count": null,
      "outputs": []
    },
    {
      "cell_type": "code",
      "source": [
        "# Write a function which will find the highest rated movie by a given genre.\n",
        "# Both imdb rating and metascore options should exist.\n",
        "# Add a flag which will choose among movies with only one genre (e.g. just Comedy)\n",
        "task[10] = 5"
      ],
      "metadata": {
        "id": "NKeOULZfYgNm"
      },
      "execution_count": null,
      "outputs": []
    },
    {
      "cell_type": "code",
      "source": [
        "# Get all the possible genres and store them in a Series variable.\n",
        "# Call the function you created and print out the top movies by every genre.\n",
        "task[11] = 5"
      ],
      "metadata": {
        "id": "nPe951ZIb1B0"
      },
      "execution_count": null,
      "outputs": []
    },
    {
      "cell_type": "code",
      "source": [
        "# Write a function which will find the most common genre by a decade.\n",
        "# What is the most common genre of 1970s? Or 1980s? Why?\n",
        "task[12] = 5"
      ],
      "metadata": {
        "id": "SzqcW9B5iLob"
      },
      "execution_count": null,
      "outputs": []
    },
    {
      "cell_type": "code",
      "source": [
        "# Find great movies which are not well known.\n",
        "# Get movie names which have 20,000 votes or less, while\n",
        "# having rating of 8 or more. Make an option for metascore (90 or more).\n",
        "task[13] = 5"
      ],
      "metadata": {
        "id": "l5ovdvN4ckMK"
      },
      "execution_count": null,
      "outputs": []
    },
    {
      "cell_type": "code",
      "source": [
        "# Write a function which will return a dictionary of statistics about a director:\n",
        "# - Movie Title Series with year\n",
        "# - Best rated movie(s)\n",
        "# - Worst rated movie(s)\n",
        "# - The average imdb rating of movies\n",
        "# - The average metascore of movies\n",
        "# - The average runtime of movies\n",
        "# - The total gross (box office) revenue\n",
        "# - Genres of movies directed\n",
        "task[14] = 10"
      ],
      "metadata": {
        "id": "k3aXe7yfdeBZ"
      },
      "execution_count": null,
      "outputs": []
    },
    {
      "cell_type": "code",
      "source": [
        "# Write a function which should plot a histogram showing movie frequency by every year\n",
        "# Function should accept a range of start year and end year.\n",
        "task[15] = 10"
      ],
      "metadata": {
        "id": "Xj_xIrp5iA_F"
      },
      "execution_count": null,
      "outputs": []
    },
    {
      "cell_type": "code",
      "source": [
        "# Write a function which will accept a numpy array of director names\n",
        "# and generate a bar chart based on the movie count of each director\n",
        "task[16] = 10"
      ],
      "metadata": {
        "id": "1l5QoRb4lqug"
      },
      "execution_count": null,
      "outputs": []
    },
    {
      "cell_type": "code",
      "source": [
        "# Find and plot correlation between columns:\n",
        "# - year and gross\n",
        "# - year and runtime\n",
        "# - runtime and gross\n",
        "# - rating (for both imdb and metascore) and gross\n",
        "# - rating and runtime\n",
        "# Explain for each case why we may see such results\n",
        "task[17] = 15"
      ],
      "metadata": {
        "id": "_oJS1Yw0mUBJ"
      },
      "execution_count": null,
      "outputs": []
    },
    {
      "cell_type": "code",
      "source": [
        "task.sum()"
      ],
      "metadata": {
        "colab": {
          "base_uri": "https://localhost:8080/"
        },
        "id": "TeoWKa2PgWLu",
        "outputId": "e6fa5224-4b86-4806-b549-a722670170e3"
      },
      "execution_count": null,
      "outputs": [
        {
          "output_type": "execute_result",
          "data": {
            "text/plain": [
              "100"
            ]
          },
          "metadata": {},
          "execution_count": 109
        }
      ]
    }
  ]
}
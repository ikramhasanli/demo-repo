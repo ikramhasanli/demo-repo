{
  "nbformat": 4,
  "nbformat_minor": 0,
  "metadata": {
    "colab": {
      "provenance": [],
      "include_colab_link": true
    },
    "kernelspec": {
      "name": "python3",
      "display_name": "Python 3"
    },
    "language_info": {
      "name": "python"
    }
  },
  "cells": [
    {
      "cell_type": "markdown",
      "metadata": {
        "id": "view-in-github",
        "colab_type": "text"
      },
      "source": [
        "<a href=\"https://colab.research.google.com/github/ikramhasanli/demo-repo/blob/main/ENCE_3503_Fall_2024_hw02.ipynb\" target=\"_parent\"><img src=\"https://colab.research.google.com/assets/colab-badge.svg\" alt=\"Open In Colab\"/></a>"
      ]
    },
    {
      "cell_type": "markdown",
      "source": [
        "# ENCE 3503: Fall 2024 Homework 2"
      ],
      "metadata": {
        "id": "rOdt7l5BIdBy"
      }
    },
    {
      "cell_type": "markdown",
      "source": [
        "## Submission Instructions\n",
        "**Latest attempt** will be graded. Not following any one of the instructions below will result in **zero grade**:\n",
        "\n",
        "- Rename your file by including your student information (Name and ID): **ENCE_3503_Fall_2024_hw02_StudentName_ID.ipynb**\n",
        "- Submit your updated `.ipynb` file to your **Github Classroom Repository** (accept it at: https://classroom.github.com/a/5w6zTZ3-)\n",
        "- Submit your updated `.ipynb` file to **Blackboard**.\n",
        "- Update **Student Information** (see below)."
      ],
      "metadata": {
        "id": "yXoa-aiVH43E"
      }
    },
    {
      "cell_type": "markdown",
      "source": [
        "## Student Information\n",
        "\n",
        "**Full Name:** Ikram Hasanli\n",
        "\n",
        "**ID:** 15235\n",
        "\n",
        "**Github Repository URL:** https://github.com/ADA-SITE-ENCE-3503/pandas-matplotlib-ikramhasanli"
      ],
      "metadata": {
        "id": "MChims5UIa2n"
      }
    },
    {
      "cell_type": "markdown",
      "source": [
        "## Homework Instructions\n",
        "\n",
        "In all tasks, you should preferably **add additional cells and markdown comments** as necessary. You should handle possible **exceptional cases** and test your functions. Generally, you have flexibility on how you handle the problem, but all the written **instructions** must be met. Your code should be clear and understandable. Don't remove any comment/cell that the notebook already has."
      ],
      "metadata": {
        "id": "ob1pQ6nbMCAL"
      }
    },
    {
      "cell_type": "markdown",
      "source": [
        "Download **IMDB Top 1000** movies database (`.csv`) file from https://www.kaggle.com/datasets/harshitshankhdhar/imdb-dataset-of-top-1000-movies-and-tv-shows."
      ],
      "metadata": {
        "id": "OsXIXYuIoajp"
      }
    },
    {
      "cell_type": "code",
      "source": [
        "# Import libraries (run the cell)\n",
        "import numpy as np\n",
        "import pandas as pd\n",
        "import matplotlib.pyplot as plt\n",
        "%matplotlib inline"
      ],
      "metadata": {
        "id": "pH5ZKoZvPDa3"
      },
      "execution_count": null,
      "outputs": []
    },
    {
      "cell_type": "code",
      "source": [
        "# Uncomment and run the code below if you are working in google colab to upload the csv\n",
        "from google.colab import drive\n",
        "drive.mount('/content/drive')\n",
        "\n",
        "import pandas as pd\n",
        "\n",
        "df = pd.read_csv('/content/drive/MyDrive/imdb_top_1000.csv')\n",
        "\n"
      ],
      "metadata": {
        "id": "aG-BDSAcMlVc",
        "colab": {
          "base_uri": "https://localhost:8080/"
        },
        "outputId": "8a0c8c86-ad42-4b32-937d-c1267924f498"
      },
      "execution_count": null,
      "outputs": [
        {
          "output_type": "stream",
          "name": "stdout",
          "text": [
            "Drive already mounted at /content/drive; to attempt to forcibly remount, call drive.mount(\"/content/drive\", force_remount=True).\n"
          ]
        }
      ]
    },
    {
      "cell_type": "code",
      "source": [
        "# Update the csv filepath below accordingly and run this cell to import csv\n",
        "filepath = \"/content/drive/MyDrive/imdb_top_1000\" # update this line\n",
        "imdb = pd.read_csv(filepath + '.csv')"
      ],
      "metadata": {
        "id": "kzZJmVxxM_PX"
      },
      "execution_count": null,
      "outputs": []
    },
    {
      "cell_type": "code",
      "source": [
        "# The code below is for grading. It is ok to run such cells, but you won't use them.\n",
        "task = np.zeros(100, dtype=np.uint8)"
      ],
      "metadata": {
        "id": "3zvBUaM4U-Ut"
      },
      "execution_count": null,
      "outputs": []
    },
    {
      "cell_type": "code",
      "source": [
        "# Print out columns, then rename them however you wish (make them simpler).\n",
        "print('Original columns: ', imdb.columns)\n",
        "imdb.rename(columns={'Poster_Link': 'poster', 'Series_Title': 'title', 'Released_Year': 'year', 'Certificate': 'certificate', 'Runtime': 'runtime', 'Genre':'genre', 'IMDB_Rating': 'rating', 'Overview': 'overview', 'Meta_score': 'metascore', 'Director': 'director', 'Star1': 'star1', 'Star2': 'star2', 'Star3': 'star3', 'Star4': 'star4', 'No_of_Votes': 'votes', 'Gross': 'gross'}, inplace=True) #I simplified the words for much easier future usage (by trying to avoid '_' or uppercase letters)\n",
        "# Drop/delete poster column.\n",
        "imdb.drop('poster', axis=1, inplace=True) #Via curiosity, I realized for this to run, this box should run once only (as afterwards, there will not be any 'poster' column anymore, and it will not be able to be removed, which leads to an error)\n",
        "print('New columns: ', imdb.columns)\n",
        "# Show first 3 rows.\n",
        "print(imdb.head(3)) #it did not print without print\n",
        "task[1] = 1 # Task 1 gives 1 point."
      ],
      "metadata": {
        "id": "OreKO5KFNHgJ",
        "colab": {
          "base_uri": "https://localhost:8080/"
        },
        "outputId": "e991dda5-e490-413c-a37b-2eef7fac4dbf"
      },
      "execution_count": null,
      "outputs": [
        {
          "output_type": "stream",
          "name": "stdout",
          "text": [
            "Original columns:  Index(['Poster_Link', 'Series_Title', 'Released_Year', 'Certificate',\n",
            "       'Runtime', 'Genre', 'IMDB_Rating', 'Overview', 'Meta_score', 'Director',\n",
            "       'Star1', 'Star2', 'Star3', 'Star4', 'No_of_Votes', 'Gross'],\n",
            "      dtype='object')\n",
            "New columns:  Index(['title', 'year', 'certificate', 'runtime', 'genre', 'rating',\n",
            "       'overview', 'metascore', 'director', 'star1', 'star2', 'star3', 'star4',\n",
            "       'votes', 'gross'],\n",
            "      dtype='object')\n",
            "                      title  year certificate  runtime                 genre  \\\n",
            "0  The Shawshank Redemption  1994           A  142 min                 Drama   \n",
            "1             The Godfather  1972           A  175 min          Crime, Drama   \n",
            "2           The Dark Knight  2008          UA  152 min  Action, Crime, Drama   \n",
            "\n",
            "   rating                                           overview  metascore  \\\n",
            "0     9.3  Two imprisoned men bond over a number of years...       80.0   \n",
            "1     9.2  An organized crime dynasty's aging patriarch t...      100.0   \n",
            "2     9.0  When the menace known as the Joker wreaks havo...       84.0   \n",
            "\n",
            "               director           star1           star2          star3  \\\n",
            "0        Frank Darabont     Tim Robbins  Morgan Freeman     Bob Gunton   \n",
            "1  Francis Ford Coppola   Marlon Brando       Al Pacino     James Caan   \n",
            "2     Christopher Nolan  Christian Bale    Heath Ledger  Aaron Eckhart   \n",
            "\n",
            "            star4    votes        gross  \n",
            "0  William Sadler  2343110   28,341,469  \n",
            "1    Diane Keaton  1620367  134,966,411  \n",
            "2   Michael Caine  2303232  534,858,444  \n"
          ]
        }
      ]
    },
    {
      "cell_type": "code",
      "source": [
        "# Show relevant statistics about the data (e.g. five number summary).\n",
        "print(imdb.describe()) #this code shows basic relevant statistics for numerical columns, there seems to be string values in 'Year' and 'gross' columns because they were not printed. Also, in 'runtime' the statistics cannot be calculated because of 'min'\n",
        "# Explain what you understand from this summary.\n",
        "task[2] = 3"
      ],
      "metadata": {
        "id": "nFMu0bQpPXUh",
        "colab": {
          "base_uri": "https://localhost:8080/"
        },
        "outputId": "df5212b3-0031-4dc5-b563-223d72339a50"
      },
      "execution_count": null,
      "outputs": [
        {
          "output_type": "stream",
          "name": "stdout",
          "text": [
            "            rating   metascore         votes\n",
            "count  1000.000000  843.000000  1.000000e+03\n",
            "mean      7.949300   77.971530  2.736929e+05\n",
            "std       0.275491   12.376099  3.273727e+05\n",
            "min       7.600000   28.000000  2.508800e+04\n",
            "25%       7.700000   70.000000  5.552625e+04\n",
            "50%       7.900000   79.000000  1.385485e+05\n",
            "75%       8.100000   87.000000  3.741612e+05\n",
            "max       9.300000  100.000000  2.343110e+06\n"
          ]
        }
      ]
    },
    {
      "cell_type": "code",
      "source": [
        "# Analyze your data. Is there missing (NaN) or incorrect values? What are they? # there seems to be string values in 'Year' and 'gross' columns because they were not printed. Also, in 'runtime' the statistics cannot be calculated because of 'min'\n",
        "# Are there imprecise data types (e.g. string instead of integer)? Fix/populate them.\n",
        "imdb['year'] = pd.to_numeric(imdb['year'], errors='coerce') #year column has strings instead of ints in some rows, so we are ensuring that they are shown as \"NaN\" not to affect the result\n",
        "imdb['gross'] = imdb['gross'].astype(str).str.replace(r'[$,]', '', regex=True) # we remove \"$\" sings from this (I wrote it with 2 lines because in the previous there were not mixtures of int and string in 1 line, but separate)\n",
        "imdb['gross'] = pd.to_numeric(imdb['gross'], errors='coerce') # we change all the non-numeric values (strings) to \"NaN\"\n",
        "imdb['runtime'] = imdb['runtime'].astype(str).str.replace(r' min', '', regex=True) #removing the 'min' str to calculate the mean\n",
        "imdb['runtime'] = pd.to_numeric(imdb['runtime'], errors='coerce')  # considering all the non-numeric values in this column as \"NaN\"\n",
        "for a in ['year', 'votes', 'metascore', 'gross', 'runtime']: #we replace \"NaN\"s with the mean to make it accurate\n",
        "    imdb[a] = imdb[a].fillna(imdb[a].mean()) #filling NaN with the mean values\n",
        "task[3] = 4"
      ],
      "metadata": {
        "id": "4qJDMxRjP-ps"
      },
      "execution_count": null,
      "outputs": []
    },
    {
      "cell_type": "code",
      "source": [
        "# Generate statistics again. What new do you see? What does it tell you?\n",
        "print(imdb.describe()) #printing 5 number summary\n",
        "# I see that all the 5 num summary has been accurately calculated. The string values have first been replaced with NaN, and then they have been replaced with mean values. This is why the 5 number summary is shown right\n",
        "task[4] = 2"
      ],
      "metadata": {
        "id": "aLw0IaYseb--",
        "colab": {
          "base_uri": "https://localhost:8080/"
        },
        "outputId": "a8c964e8-d1cd-4185-9760-4acdb2c7ec4e"
      },
      "execution_count": null,
      "outputs": [
        {
          "output_type": "stream",
          "name": "stdout",
          "text": [
            "              year      runtime       rating   metascore         votes  \\\n",
            "count  1000.000000  1000.000000  1000.000000  1000.00000  1.000000e+03   \n",
            "mean   1991.217217   122.891000     7.949300    77.97153  2.736929e+05   \n",
            "std      23.285362    28.093671     0.275491    11.36206  3.273727e+05   \n",
            "min    1920.000000    45.000000     7.600000    28.00000  2.508800e+04   \n",
            "25%    1976.000000   103.000000     7.700000    72.00000  5.552625e+04   \n",
            "50%    1999.000000   119.000000     7.900000    77.97153  1.385485e+05   \n",
            "75%    2009.000000   137.000000     8.100000    85.25000  3.741612e+05   \n",
            "max    2020.000000   321.000000     9.300000   100.00000  2.343110e+06   \n",
            "\n",
            "              gross  \n",
            "count  1.000000e+03  \n",
            "mean   6.803475e+07  \n",
            "std    1.000371e+08  \n",
            "min    1.305000e+03  \n",
            "25%    5.012919e+06  \n",
            "50%    4.238945e+07  \n",
            "75%    6.803475e+07  \n",
            "max    9.366622e+08  \n"
          ]
        }
      ]
    },
    {
      "cell_type": "code",
      "source": [
        "# Write a function which will return N highest rated movies of a given year.\n",
        "# It should accept dataframe, year and movie count N and return a new dataframe with top movies from imdb.\n",
        "# It should also be possible to get movies by metascore, instead of imdb rating.\n",
        "def rankingmovies(df):  # function that returns the n-highest-rated movies of a given year\n",
        "    while True: #I decided to make it sustainable so that user will enter the values untill it gets valid\n",
        "        year_input = input(\"Enter the year (earliest being 1920): \") #user inputting the year for year\n",
        "        if year_input.isdigit() and int(year_input) >= 1920: #Error values, I chose 1920 because the earliest movie is 1920 (checked by imdb['year'].min())\n",
        "            year = int(year_input) #year is integer\n",
        "            break #stop\n",
        "        print(f\"movies not found for {year_input}. Please enter a valid year(earliest being 1920).\") #printing that untill valid input\n",
        "\n",
        "    while True: #untill user input is right/as many times\n",
        "        cnt = input(\"Enter the number of top movies to retrieve: \") #user inputting the movie number for cnt\n",
        "        if cnt.isdigit() and int(cnt) > 0: #Error value would be anything less than 1 because it needs at least 1 movie to rate\n",
        "            n = int(cnt) #again int because we are working with integers\n",
        "            break #stop when it is right\n",
        "        print(\"There should be at least one movie\") #print that the input is not valid\n",
        "\n",
        "    while True:\n",
        "        by = input(\"Sort by 'rating' or 'metascore': \") #user chooses to rank either by rating or metascore\n",
        "        if by in ['rating', 'metascore']:\n",
        "            break\n",
        "        print(\"Please choose either 'rating' or 'metascore'\") #outputs this until user chooses one of them as a valid input\n",
        "\n",
        "    movies_of_year = df[df['year'] == year]  #filtering movies by year\n",
        "\n",
        "    if movies_of_year.empty:  # Checks if it is empty, and if it is, outputs the below text\n",
        "        print(f\"no movies found for {year}\")\n",
        "        return None\n",
        "\n",
        "    if by == 'rating': #sorting movies\n",
        "        top_movies = movies_of_year.sort_values(by='rating', ascending=False).head(n) #sorting movies by rating\n",
        "    else:\n",
        "        top_movies = movies_of_year.sort_values(by='metascore', ascending=False).head(n) #sorting movies by metascore\n",
        "\n",
        "    return top_movies #returning the top_movies (ranking)\n",
        "\n",
        "top_movies_df = rankingmovies(imdb) #calling the function to show the result (ranking) for user input\n",
        "\n",
        "if top_movies_df is not None: #if not empty, print\n",
        "    print(top_movies_df)\n",
        "\n",
        "task[5] = 5"
      ],
      "metadata": {
        "id": "fN3hEqV0Qnto",
        "colab": {
          "base_uri": "https://localhost:8080/"
        },
        "outputId": "36a75a0d-12be-4491-fd6d-524c5f607794"
      },
      "execution_count": null,
      "outputs": [
        {
          "output_type": "stream",
          "name": "stdout",
          "text": [
            "Enter the year (earliest being 1920): 1919\n",
            "movies not found for 1919. Please enter a valid year(earliest being 1920).\n",
            "Enter the year (earliest being 1920): 1920\n",
            "Enter the number of top movies to retrieve: 10\n",
            "Sort by 'rating' or 'metascore': rating\n",
            "                            title    year certificate  runtime  \\\n",
            "321  Das Cabinet des Dr. Caligari  1920.0         NaN       76   \n",
            "\n",
            "                        genre  rating  \\\n",
            "321  Fantasy, Horror, Mystery     8.1   \n",
            "\n",
            "                                              overview  metascore  \\\n",
            "321  Hypnotist Dr. Caligari uses a somnambulist, Ce...   77.97153   \n",
            "\n",
            "         director          star1         star2            star3        star4  \\\n",
            "321  Robert Wiene  Werner Krauss  Conrad Veidt  Friedrich Feher  Lil Dagover   \n",
            "\n",
            "     votes         gross  \n",
            "321  57428  6.803475e+07  \n"
          ]
        }
      ]
    },
    {
      "cell_type": "code",
      "source": [
        "# Print out the highest rated movie of every decade (e.g. 1980s) using your function above.\n",
        "def highest_rated_per_dec(df): #creating a function for it\n",
        "    decades = range(1920, 2021, 10) #I found the last movie year to be 2020 by the function imdb['year].max()\n",
        "    for start_decade in decades:\n",
        "        end_decade = start_decade + 9 #creates a start of each decade (each decade starts from 0 till 9 (1920-1929) so it identifies the end of a decade as start+9)\n",
        "        decade_movies = df[(df['year'] >= start_decade) & (df['year'] <= end_decade)] #indexing by year. this dataframe (called decade_movies) checks the movies released within the decade\n",
        "        if not decade_movies.empty:\n",
        "            highest_rated = decade_movies.loc[decade_movies['rating'].idxmax()] #finding the highest rated movie by finding biggest index\n",
        "            print(f\"highest rated movie of the {start_decade}s: {highest_rated['title']} (Rating: {highest_rated['rating']})\") #printing\n",
        "highest_rated_per_dec(imdb) #printing the function (the ratings of the highest ranked movie for each decade)\n",
        "task[6] = 5"
      ],
      "metadata": {
        "id": "P3JX44YJaWbi",
        "colab": {
          "base_uri": "https://localhost:8080/"
        },
        "outputId": "ba483d12-775e-4015-a6d6-1fea541229cd"
      },
      "execution_count": 47,
      "outputs": [
        {
          "output_type": "stream",
          "name": "stdout",
          "text": [
            "highest rated movie of the 1920s: Metropolis (Rating: 8.3)\n",
            "highest rated movie of the 1930s: Modern Times (Rating: 8.5)\n",
            "highest rated movie of the 1940s: It's a Wonderful Life (Rating: 8.6)\n",
            "highest rated movie of the 1950s: 12 Angry Men (Rating: 9.0)\n",
            "highest rated movie of the 1960s: Il buono, il brutto, il cattivo (Rating: 8.8)\n",
            "highest rated movie of the 1970s: The Godfather (Rating: 9.2)\n",
            "highest rated movie of the 1980s: Star Wars: Episode V - The Empire Strikes Back (Rating: 8.7)\n",
            "highest rated movie of the 1990s: The Shawshank Redemption (Rating: 9.3)\n",
            "highest rated movie of the 2000s: The Dark Knight (Rating: 9.0)\n",
            "highest rated movie of the 2010s: Inception (Rating: 8.8)\n",
            "highest rated movie of the 2020s: Hamilton (Rating: 8.6)\n"
          ]
        }
      ]
    },
    {
      "cell_type": "code",
      "source": [
        "# Write a function which will get the commercially most successful N directors.\n",
        "def successful_directors(df, n):\n",
        "  director_gross = df.groupby('director')['gross'].sum() #using director and gross columns to group them together (to find the ones who get most money)\n",
        "  top_directors = director_gross.sort_values(ascending=False).head(n) #sorting gross in decreasing order\n",
        "\n",
        "  return top_directors\n",
        "\n",
        "while True: #letting user input as many times\n",
        "    try:\n",
        "        n = int(input(\"the number of directors: \"))  #user inputting\n",
        "        if n <= 0: #invalid input case\n",
        "            print(\"There should be at least 1 director\")\n",
        "            continue\n",
        "        break  #if input is valid\n",
        "    except ValueError: #str or float\n",
        "        print(\"Invalid input. Please enter a positive integer.\") #this output will be shown unless the input is right\n",
        "\n",
        "top_num_directors = successful_directors(imdb, n) #call the function with user input, n and imdb(the columns director and gross)\n",
        "print(top_num_directors)\n",
        "\n",
        "task[7] = 5"
      ],
      "metadata": {
        "id": "Jw2rlzVPTz33",
        "colab": {
          "base_uri": "https://localhost:8080/"
        },
        "outputId": "7dbe549e-bbc3-4b3c-8276-5ad14079f96a"
      },
      "execution_count": null,
      "outputs": [
        {
          "output_type": "stream",
          "name": "stdout",
          "text": [
            "the number of directors: 0\n",
            "There should be at least 1 director\n",
            "the number of directors: -1\n",
            "There should be at least 1 director\n",
            "the number of directors: 100\n",
            "director\n",
            "Steven Spielberg     2.478133e+09\n",
            "Anthony Russo        2.205039e+09\n",
            "Christopher Nolan    1.937454e+09\n",
            "James Cameron        1.748237e+09\n",
            "Peter Jackson        1.597312e+09\n",
            "                         ...     \n",
            "Rich Moore           1.894229e+08\n",
            "Kevin Costner        1.842088e+08\n",
            "Andrew Davis         1.838758e+08\n",
            "Steven Soderbergh    1.834172e+08\n",
            "Spike Lee            1.772897e+08\n",
            "Name: gross, Length: 100, dtype: float64\n"
          ]
        }
      ]
    },
    {
      "cell_type": "code",
      "source": [
        "# Write a function which will get the commercially most successful N actors.\n",
        "def successful_actors(df, n):\n",
        "  #actor_gross = df.groupby[('star1')['gross'].sum(), ('star2')['gross'].sum(), ('star3')['gross'].sum(), ('star4')['gross'].sum()] #using actor columns to group them together (to find the ones who get most money)\n",
        "  actors_and_gross = df.melt(id_vars=['gross'], value_vars=['star1', 'star2', 'star3', 'star4'], var_name='star_role', value_name='actor') #melt is used in pandas to represent several columns together bc they represent the same data type, so I merged star1 to star4 by the name of actors\n",
        "  actor_gross = actors_and_gross.groupby('actor')['gross'].sum() #grouping by actor (previously merged star1 to star4)\n",
        "  top_actors = actor_gross.sort_values(ascending=False).head(n) #sorting in decreasing (ascending=False) order\n",
        "  return top_actors\n",
        "\n",
        "while True: #letting user input many times (condition based)\n",
        "    try:\n",
        "        n = int(input(\"the number of successful actors: \"))  #user inputting\n",
        "        if n<=0: #invalid input case\n",
        "            print(\"There should be at least 1 actor\")\n",
        "            continue\n",
        "        break  #if input is valid\n",
        "    except ValueError: #str or float\n",
        "        print(\"Invalid input. Please enter a positive integer.\") #this output will be shown unless the input is right\n",
        "\n",
        "top_actors = successful_actors(imdb, n)\n",
        "print(top_actors)\n",
        "\n",
        "task[9] = 5"
      ],
      "metadata": {
        "id": "G9JnRyetigWg",
        "colab": {
          "base_uri": "https://localhost:8080/"
        },
        "outputId": "4e13cfc9-0553-4ccd-d448-de3368b3b38d"
      },
      "execution_count": null,
      "outputs": [
        {
          "output_type": "stream",
          "name": "stdout",
          "text": [
            "the number of successful actors: 10\n",
            "actor\n",
            "Robert Downey Jr.    3.129073e+09\n",
            "Tom Hanks            2.903565e+09\n",
            "Chris Evans          2.339664e+09\n",
            "Joe Russo            2.205039e+09\n",
            "Mark Ruffalo         2.126430e+09\n",
            "Leonardo DiCaprio    2.049297e+09\n",
            "Ian McKellen         1.869869e+09\n",
            "Rupert Grint         1.835901e+09\n",
            "Daniel Radcliffe     1.835901e+09\n",
            "Matt Damon           1.728542e+09\n",
            "Name: gross, dtype: float64\n"
          ]
        }
      ]
    },
    {
      "cell_type": "code",
      "source": [
        "# Write a function to find actors who starred the most amount of times in top movies.\n",
        "# (imdb rating 8 or more, metascore 90 or more)\n",
        "def actors_starred_most(df):\n",
        "  top_movies = df[(df['rating'] >= 8) & (df['metascore'] >= 90)] #imdb rating 8 or more, metascore 90 or more\n",
        "  list_of_actors = pd.concat([top_movies['star1'], top_movies['star2'], top_movies['star3'], top_movies['star4']]) #this concat function helps to call several columns at the same time, and we call all the ones with actors\n",
        "  actor_cnt =list_of_actors.value_counts() #counting how many time they have appeared\n",
        "  return actor_cnt\n",
        "\n",
        "actor_cnt = actors_starred_most(imdb) #calling the main function imdb to retrieve\n",
        "print(actor_cnt)\n",
        "# Who is at the top of the list?\n",
        "print(\"actor at the top of the list:\", actor_cnt.index[0]) #printing the actor at the top of the list\n",
        "task[8] = 5"
      ],
      "metadata": {
        "id": "ZwjH3kbHUWoY",
        "colab": {
          "base_uri": "https://localhost:8080/"
        },
        "outputId": "9696ac44-9b5c-4c75-ea0a-7528990e8ff0"
      },
      "execution_count": null,
      "outputs": [
        {
          "output_type": "stream",
          "name": "stdout",
          "text": [
            "James Stewart      5\n",
            "Marlon Brando      4\n",
            "Robert De Niro     3\n",
            "Orson Welles       3\n",
            "Humphrey Bogart    3\n",
            "                  ..\n",
            "Merna Kennedy      1\n",
            "Sam Wood           1\n",
            "Mark Hamill        1\n",
            "Jean Martin        1\n",
            "Ivan Bobrov        1\n",
            "Name: count, Length: 347, dtype: int64\n",
            "actor at the top of the list: James Stewart\n"
          ]
        }
      ]
    },
    {
      "cell_type": "code",
      "source": [
        "# Write a function which will find the highest rated movie by a given genre.\n",
        "# Both imdb rating and metascore options should exist.\n",
        "# Add a flag which will choose among movies with only one genre (e.g. just Comedy)\n",
        "def highest_rated_movie_by_genre(df, genre, by='rating', single_genre=False): #genre, rating, and considering movies with all genres\n",
        "  if single_genre: # single_genre is set to true (movies with a single genre) are:\n",
        "        moviegenre=df[df['genre'].str.contains(',', na=True)] #if there is no ',' in a list of genres, it basically means that there is just one genre\n",
        "        moviegenre=moviegenre[moviegenre['genre'].str.contains(genre, case=False, na=False)] #moviegenre is a subsite of df, only including single genre movies. It accesses the genre column of imdb. case=False ignores the upper/lowercase scenario(Comedy=comedy), na=False ignores NaN values so that they are not involved in the results\n",
        "  else:\n",
        "        moviegenre = df[df['genre'].str.contains(genre, case=False, na=False)] #the function takes all the genres of multi-genre movies\n",
        "  if moviegenre.empty: #if nothing is inputted\n",
        "        print(f\"no movies found for {genre}\") #print this\n",
        "        return None\n",
        "  if by== 'rating': #if user chooses to classify by rating\n",
        "        highest_rated = moviegenre.loc[moviegenre['rating'].idxmax()] #loc function accesses the rating colum (using the highest index finds the highest rated based on rating)\n",
        "  elif by == 'metascore': #if user chooses metascore criteria\n",
        "        highest_rated = moviegenre.loc[moviegenre['metascore'].idxmax()] #loc function acceses the metascore column (using the highest index finds the highest rated based on metascore)\n",
        "  else: #if invalid\n",
        "        print(\"Please choose either 'rating' or 'metascore'\") #invalid input\n",
        "        return None\n",
        "\n",
        "  return highest_rated\n",
        "\n",
        "genre_input= input(\"enter the genre: \") #user inputs the movie genre\n",
        "single_genre_input = input(\"Consider movies with only one genre ('yes' or 'no'):\").strip().lower()\n",
        "rtng_type = input(\"based on 'rating' or 'metascore'? \").strip().lower() #extra spaces (by strip()) are ignored and the same about uppercases, they are transformed to lowercases (lowwer())\n",
        "highest_movie =highest_rated_movie_by_genre(imdb, genre_input, by=rtng_type) #defining highes_movie as the genre\n",
        "if highest_movie is not None: #if there is a valid result\n",
        "   print(f\"Highest rated movie in genre {genre_input} (based on {rtng_type}): {highest_movie['title']} (Rating:{highest_movie['rating']}, Metascore:{highest_movie['metascore']})\") #organizing the sentence to first show the genre, then the criteria (rating/metascore), then the movie name, and I also decided to include both rating and metascore as well for clarity\n",
        "task[10] = 5"
      ],
      "metadata": {
        "id": "NKeOULZfYgNm",
        "colab": {
          "base_uri": "https://localhost:8080/"
        },
        "outputId": "af53a9c4-d4b3-46fb-d556-f8106373484d"
      },
      "execution_count": null,
      "outputs": [
        {
          "output_type": "stream",
          "name": "stdout",
          "text": [
            "enter the genre: comedy\n",
            "Consider movies with only one genre ('yes' or 'no'):yes\n",
            "based on 'rating' or 'metascore'? rating\n",
            "Highest rated movie in genre comedy (based on rating): Gisaengchung (Rating:8.6, Metascore:96.0)\n"
          ]
        }
      ]
    },
    {
      "cell_type": "code",
      "source": [
        "# Get all the possible genres and store them in a Series variable.\n",
        "all_genres = imdb['genre'].str.split(', ').explode().unique() #creates unique genres from the genre column (separates them by ',' and by the unique() function chooses one of the duplicates. I learned that by using explode() I can write each genre in every new row, so I used it as well (it  helps to put the multiple-genre movies' genres on different rows with the same movie name))\n",
        "all_genres_series = pd.Series(all_genres) #each unique genre is now a row of Pd Series\n",
        "# Call the function you created and print out the top movies by every genre.\n",
        "for badambura in all_genres_series: #for a genre from all genres\n",
        "    highest_ranked_movie = highest_rated_movie_by_genre(imdb, badambura) #genre(badambura) in imdb\n",
        "    if  highest_ranked_movie is not None: #if valid (the function succesfuly found the movie)\n",
        "        print(f\"Highest rated movie in the genre of {badambura}: {highest_ranked_movie['title']} (Rating:{highest_ranked_movie['rating']}, Metascore:{highest_ranked_movie['metascore']})\") #showing the genre, highest rated movie name, and its rating as well as metascore\n",
        "task[11] = 5"
      ],
      "metadata": {
        "id": "nPe951ZIb1B0",
        "colab": {
          "base_uri": "https://localhost:8080/"
        },
        "outputId": "6b840aa1-1277-452b-93dd-ed038a53e6ec"
      },
      "execution_count": null,
      "outputs": [
        {
          "output_type": "stream",
          "name": "stdout",
          "text": [
            "Highest rated movie in the genre of Drama: The Shawshank Redemption (Rating:9.3, Metascore:80.0)\n",
            "Highest rated movie in the genre of Crime: The Godfather (Rating:9.2, Metascore:100.0)\n",
            "Highest rated movie in the genre of Action: The Dark Knight (Rating:9.0, Metascore:84.0)\n",
            "Highest rated movie in the genre of Adventure: The Lord of the Rings: The Return of the King (Rating:8.9, Metascore:94.0)\n",
            "Highest rated movie in the genre of Biography: Schindler's List (Rating:8.9, Metascore:94.0)\n",
            "Highest rated movie in the genre of History: Schindler's List (Rating:8.9, Metascore:94.0)\n",
            "Highest rated movie in the genre of Sci-Fi: Inception (Rating:8.8, Metascore:74.0)\n",
            "Highest rated movie in the genre of Romance: Forrest Gump (Rating:8.8, Metascore:82.0)\n",
            "Highest rated movie in the genre of Western: Il buono, il brutto, il cattivo (Rating:8.8, Metascore:90.0)\n",
            "Highest rated movie in the genre of Fantasy: Star Wars: Episode V - The Empire Strikes Back (Rating:8.7, Metascore:82.0)\n",
            "Highest rated movie in the genre of Comedy: Gisaengchung (Rating:8.6, Metascore:96.0)\n",
            "Highest rated movie in the genre of Thriller: Gisaengchung (Rating:8.6, Metascore:96.0)\n",
            "Highest rated movie in the genre of Animation: Sen to Chihiro no kamikakushi (Rating:8.6, Metascore:96.0)\n",
            "Highest rated movie in the genre of Family: Sen to Chihiro no kamikakushi (Rating:8.6, Metascore:96.0)\n",
            "Highest rated movie in the genre of War: Saving Private Ryan (Rating:8.6, Metascore:91.0)\n",
            "Highest rated movie in the genre of Mystery: Se7en (Rating:8.6, Metascore:65.0)\n",
            "Highest rated movie in the genre of Music: Whiplash (Rating:8.5, Metascore:88.0)\n",
            "Highest rated movie in the genre of Horror: Psycho (Rating:8.5, Metascore:97.0)\n",
            "Highest rated movie in the genre of Musical: Anand (Rating:8.4, Metascore:77.97153024911032)\n",
            "Highest rated movie in the genre of Film-Noir: Sunset Blvd. (Rating:8.4, Metascore:77.97153024911032)\n",
            "Highest rated movie in the genre of Sport: Bacheha-Ye aseman (Rating:8.3, Metascore:77.0)\n"
          ]
        }
      ]
    },
    {
      "cell_type": "code",
      "source": [
        "# Write a function which will find the most common genre by a decade.\n",
        "def most_common_genre_decade(df):\n",
        "    decades = range(1920, 2021, 10) #the last movie year is 2020, and the first is in 1920 (found by the function imdb['year].max(), and each decade is 10 years; imdb['year'].min() for 1920)\n",
        "    for start_decade in decades:\n",
        "        end_decade = start_decade + 9 #defines the end of a decade by adding 9 to the start of a decade\n",
        "        decade_movies = df[(df['year'] >= start_decade) & (df['year'] <= end_decade)] #each decade starts from 00s and ends in 09s. this dataframe (called decade_movies) checks the movies released within the decade\n",
        "        if not decade_movies.empty: #if the dataframe decade_movies (movies in each decade) is not empty (there are movies in a decade)\n",
        "          genre_counts = decade_movies['genre'].str.split(', ').explode().value_counts() #splits the genres (by split, as movies can have multiple genres seen from previous tasks), transform each genre into separate row(explode() and then counts the number of genres (how many times they were repeated)\n",
        "          the_most_common = genre_counts.index[0] #as value_counts() sorts in descending order, the first element (0 index) will be the most common one\n",
        "          print(f\"The most common movie genre in the {start_decade}s: {the_most_common}\")\n",
        "        else: #if the dataframe is empty (which is not the case)\n",
        "          print(f\"There were no movie in the{start_decade}s\")\n",
        "most_common_genre_decade(imdb) #printing the function (the ratings of the highest ranked movie for each decade)\n",
        "\n",
        "# What is the most common genre of 1970s? Or 1980s? Why? #-Drama, because of the imdb document first of all. Secondly, I believe Godfather movie series might have led to this\n",
        "task[12] = 5\n",
        "\n"
      ],
      "metadata": {
        "id": "SzqcW9B5iLob",
        "colab": {
          "base_uri": "https://localhost:8080/"
        },
        "outputId": "fc0af2bd-87ef-49eb-ddd5-60dd271e9e90"
      },
      "execution_count": 77,
      "outputs": [
        {
          "output_type": "stream",
          "name": "stdout",
          "text": [
            "The most common movie genre in the 1920s: Drama\n",
            "The most common movie genre in the 1930s: Drama\n",
            "The most common movie genre in the 1940s: Drama\n",
            "The most common movie genre in the 1950s: Drama\n",
            "The most common movie genre in the 1960s: Drama\n",
            "The most common movie genre in the 1970s: Drama\n",
            "The most common movie genre in the 1980s: Drama\n",
            "The most common movie genre in the 1990s: Drama\n",
            "The most common movie genre in the 2000s: Drama\n",
            "The most common movie genre in the 2010s: Drama\n",
            "The most common movie genre in the 2020s: Drama\n"
          ]
        }
      ]
    },
    {
      "cell_type": "code",
      "source": [
        "# Find great movies which are not well known.\n",
        "# Get movie names which have 20,000 votes or less, while\n",
        "# having rating of 8 or more. Make an option for metascore (90 or more).\n",
        "def great_movies_horrible_audience(df, criteria='rating'):\n",
        "    filtered_movies = df[df['votes'] <= 20000]#filtering movies with 20000 votes or less\n",
        "\n",
        "    if criteria == 'metascore': #filtering based on metascore being more or equal to 90\n",
        "        great_movies = filtered_movies[filtered_movies['metascore'] >= 90]\n",
        "    elif criteria == 'rating': #filtering based on ranking being more or equal to 8\n",
        "        great_movies = filtered_movies[filtered_movies['rating'] >= 8]\n",
        "\n",
        "    if great_movies.empty: #if nothing found\n",
        "        print(f\"No great movies found based on the criteria: {criteria}\")\n",
        "        return None\n",
        "\n",
        "    return great_movies[['title']] #movies if meet the criteria\n",
        "\n",
        "lesmiserablemovies = great_movies_horrible_audience(imdb, criteria='rating') #selecting the movies based on the criteria of rating column\n",
        "print(f\"Great movies with rating of 8 or more and 20,000 votes or less: {lesmiserablemovies}\") #printing the great movies\n",
        "\n",
        "movies_by_metascore = great_movies_horrible_audience(imdb, criteria='metascore') #selecting the movies based on the criteria of metascore column\n",
        "print(f\"Great movies with metascore of 90 or more and 20,000 votes or less: {movies_by_metascore}\") #printing the great movies\n",
        "\n",
        "\n",
        "task[13] = 5"
      ],
      "metadata": {
        "id": "l5ovdvN4ckMK",
        "colab": {
          "base_uri": "https://localhost:8080/"
        },
        "outputId": "2ec15cd5-f2d3-47be-b5aa-bff6d41adbe3"
      },
      "execution_count": 99,
      "outputs": [
        {
          "output_type": "stream",
          "name": "stdout",
          "text": [
            "No great movies found based on the criteria: rating\n",
            "Great movies with rating of 8 or more and 20,000 votes or less: None\n",
            "No great movies found based on the criteria: metascore\n",
            "Great movies with metascore of 90 or more and 20,000 votes or less: None\n"
          ]
        }
      ]
    },
    {
      "cell_type": "code",
      "source": [
        "# Write a function which will return a dictionary of statistics about a director:\n",
        "# - Movie Title Series with year\n",
        "def movie_statistics(df, director):\n",
        "  director_stats = df[df['director'] == director] #filtering to get all the movies directed by a specific director\n",
        "\n",
        "  if director_stats.empty: #if no director found\n",
        "    return \"Could not find any director\"\n",
        "\n",
        "  statistics = {} #creating an empty dictionary called statistics\n",
        "  statistics['movie_titles'] = director_stats[['title', 'year']].to_dict(orient='records') #selects the title and year columns. orient='records' makes rows of each dictionary element (key/value pair; in this case, movie title and year)\n",
        "\n",
        "# - Best rated movie(s)\n",
        "# - Worst rated movie(s)\n",
        "  best_movies = director_stats.loc[director_stats['rating'].idxmax()] #found via the highest ranking\n",
        "  statistics['best_rated_movies'] = best_movies.to_dict() #transform the best_rated_movies to our dictionary\n",
        "  worst_movies = director_stats.loc[director_stats['rating'].idxmin()] #the lowest ranking\n",
        "  statistics['worst_rated_movies'] = worst_movies.to_dict() #transform the worst_rated_movies to our dictionary\n",
        "# - The average imdb rating of movies\n",
        "  statistics['average_imdb_rating'] = director_stats['rating'].mean() #average found by mean of rating column\n",
        "# - The average metascore of movies\n",
        "  statistics['average_metascore'] = director_stats['metascore'].mean() #average found by mean of metascore column\n",
        "# - The average runtime of movies\n",
        "  statistics['average_runtime'] = director_stats['runtime'].mean() #average found by mean of runtime column\n",
        "# - The total gross (box office) revenue\n",
        "  statistics['total_gross'] = director_stats['gross'].sum() #total gross found by the sum of everything in gross column\n",
        "\n",
        "# - Genres of movies directed\n",
        "  all_genres = director_stats['genre'].str.split(', ').explode().unique() #separating the genres in genre column and finding the unrepeated ones\n",
        "  statistics['genres'] = list(all_genres) #transforming all unique elements to a list\n",
        "\n",
        "  return statistics #return the statistics dictionary\n",
        "director_name = input(str(\"Please enter a director name: \")) #user inputs the director name\n",
        "director_data = movie_statistics(imdb, director_name) #calling the function for the given director\n",
        "if isinstance(director_data, dict): #if in the dictionary\n",
        "  print(f\"movie title series with year: {director_data['movie_titles']}\") #returns movies and year (which was previously merged in the statistics['movie_titles'] together)\n",
        "  print(f\"best rated movies: {director_data['best_rated_movies']}\") #printing best rated movies\n",
        "  print(f\"worst rated movies: {director_data['worst_rated_movies']}\") #printing worst rated movies\n",
        "else:\n",
        "  print(director_data)  #printing this if director not found\n",
        "task[14] = 10"
      ],
      "metadata": {
        "id": "k3aXe7yfdeBZ",
        "colab": {
          "base_uri": "https://localhost:8080/"
        },
        "outputId": "202a03d4-bfd5-46f6-dcb5-dbcb76a805fb"
      },
      "execution_count": 118,
      "outputs": [
        {
          "output_type": "stream",
          "name": "stdout",
          "text": [
            "Please enter a director name: Steven Spielberg\n",
            "movie title series with year: [{'title': \"Schindler's List\", 'year': 1993.0}, {'title': 'Saving Private Ryan', 'year': 1998.0}, {'title': 'Raiders of the Lost Ark', 'year': 1981.0}, {'title': 'Indiana Jones and the Last Crusade', 'year': 1989.0}, {'title': 'Catch Me If You Can', 'year': 2002.0}, {'title': 'Jurassic Park', 'year': 1993.0}, {'title': 'Jaws', 'year': 1975.0}, {'title': 'The Color Purple', 'year': 1985.0}, {'title': 'E.T. the Extra-Terrestrial', 'year': 1982.0}, {'title': 'Empire of the Sun', 'year': 1987.0}, {'title': 'Bridge of Spies', 'year': 2015.0}, {'title': 'Minority Report', 'year': 2002.0}, {'title': 'Close Encounters of the Third Kind', 'year': 1977.0}]\n",
            "best rated movies: {'title': \"Schindler's List\", 'year': 1993.0, 'certificate': 'A', 'runtime': 195, 'genre': 'Biography, Drama, History', 'rating': 8.9, 'overview': 'In German-occupied Poland during World War II, industrialist Oskar Schindler gradually becomes concerned for his Jewish workforce after witnessing their persecution by the Nazis.', 'metascore': 94.0, 'director': 'Steven Spielberg', 'star1': 'Liam Neeson', 'star2': 'Ralph Fiennes', 'star3': 'Ben Kingsley', 'star4': 'Caroline Goodall', 'votes': 1213505, 'gross': 96898818.0, 'decade': 1990.0}\n",
            "worst rated movies: {'title': 'Bridge of Spies', 'year': 2015.0, 'certificate': 'UA', 'runtime': 142, 'genre': 'Drama, History, Thriller', 'rating': 7.6, 'overview': 'During the Cold War, an American lawyer is recruited to defend an arrested Soviet spy in court, and then help the CIA facilitate an exchange of the spy for the Soviet captured American U2 spy plane pilot, Francis Gary Powers.', 'metascore': 81.0, 'director': 'Steven Spielberg', 'star1': 'Tom Hanks', 'star2': 'Mark Rylance', 'star3': 'Alan Alda', 'star4': 'Amy Ryan', 'votes': 287659, 'gross': 72313754.0, 'decade': 2010.0}\n"
          ]
        }
      ]
    },
    {
      "cell_type": "code",
      "source": [
        "# Write a function which should plot a histogram showing movie frequency by every year\n",
        "# Function should accept a range of start year and end year.\n",
        "def movie_frequency_histogram(df, start_year, end_year):\n",
        "  while True: #so that the user inputs until his/her input is valid\n",
        "      try:\n",
        "          start_year = int(input(\"Please enter the start year: \")) #user inputs the start year\n",
        "          end_year = int(input(\"Please enter the end year: \")) #user inputs the end year\n",
        "          if start_year < 1920 or end_year < 1920 or start_year > 2021 or end_year > 2021 or start_year > end_year: #all the invalid cases\n",
        "              print(\"Invalid input. Please enter valid years (start_year <= end_year).\") #printing if invalid input\n",
        "              continue #restarting (continuing) the loop\n",
        "          break #if the input is valid, stop and graph\n",
        "      except ValueError: #if value is str or float\n",
        "          print(\"Invalid, please enter valid(int) years\") #prints if not valid\n",
        "  filtered_df = df[(df['year'] >= start_year) & (df['year'] <= end_year)]\n",
        "\n",
        "  plt.hist(filtered_df['year'], bins=range(start_year, end_year)) #adjusting bins so that they cover each year (even if nothing to show there)\n",
        "  plt.xlabel(\"Year\")  #setting the xlabel\n",
        "  plt.ylabel(\"Frequency\")  #setting the ylabel\n",
        "  plt.title(\"Movie Frequency by Year\")  #setting the graph title\n",
        "  plt.xticks(range(start_year, end_year + 1)) #showing range from start (input) to the end(input) +1 (because the end will not show the inputted end year but 1 smaller)\n",
        "  plt.show()\n",
        "\n",
        "movie_frequency_histogram(imdb, start_year, end_year) #plotting the histogram\n",
        "\n",
        "task[15] = 10"
      ],
      "metadata": {
        "id": "Xj_xIrp5iA_F",
        "colab": {
          "base_uri": "https://localhost:8080/",
          "height": 506
        },
        "outputId": "e65cef79-81c3-479e-d89b-72315cac6b18"
      },
      "execution_count": 147,
      "outputs": [
        {
          "name": "stdout",
          "output_type": "stream",
          "text": [
            "Please enter the start year: 1980\n",
            "Please enter the end year: 1990\n"
          ]
        },
        {
          "output_type": "display_data",
          "data": {
            "text/plain": [
              "<Figure size 640x480 with 1 Axes>"
            ],
            "image/png": "[encoded data removed]"
          },
          "metadata": {}
        }
      ]
    },
    {
      "cell_type": "code",
      "source": [
        "# Write a function which will accept a numpy array of director names\n",
        "# and generate a bar chart based on the movie count of each director\n",
        "def directors_and_histograms(df):\n",
        "    directors_input = input(\"Please, enter the director names separated by commas: \") #asking the user for input\n",
        "    director_names = [director.strip() for director in directors_input.split(',')] #splitting the director_names by each director\n",
        "    movie_counts = {director: {year: 0 for year in range(1920, 2022)} for director in director_names} #movie count is for the director for each year (we show the range in the bottom to make the histogram effective)\n",
        "\n",
        "    for director in director_names:\n",
        "        for year in range(1920, 2022):\n",
        "            count = df[(df['director'] == director) & (df['year'] == year)].shape[0] #each director for each year (so that the director matches the year as well)\n",
        "            movie_counts[director][year] = count #assigns how many movies a director has\n",
        "\n",
        "    colors = plt.cm.viridis(np.linspace(0, 1, len(director_names))) #generates random colors based on how many directors are inputted\n",
        "\n",
        "\n",
        "    for badam, (director, moviecounts) in enumerate(movie_counts.items()): #taking the years for the director from the dictionary\n",
        "        years = list(moviecounts.keys()) #years are the keys of a dictionary\n",
        "        moviecounts = list(moviecounts.values()) #movie counts are the values of a dictionary\n",
        "        plt.bar(years, moviecounts, color=colors[badam], label=director, alpha=0.7)  #creating a bar chart for each director with its paramenters\n",
        "\n",
        "    plt.xlabel(\"Year\")  #the x label of the chart\n",
        "    plt.ylabel(\"Number of Movies\")  #the y label of the chart\n",
        "    plt.title(\"Movie count by year for each director\")  #the title of the chart\n",
        "    plt.xticks(rotation=45)  # Rotate x-ticks for better readability\n",
        "    plt.legend(title=\"Directors\")  # Show legend\n",
        "    plt.tight_layout()  #making room by adjusting the layout\n",
        "    plt.show()  #displaying the histogram\n",
        "\n",
        "directors_and_histograms(imdb) #calling the function for the dataframe\n",
        "task[16] = 10"
      ],
      "metadata": {
        "id": "1l5QoRb4lqug",
        "colab": {
          "base_uri": "https://localhost:8080/",
          "height": 504
        },
        "outputId": "579a15f4-fad4-4726-fb69-67a6d840097d"
      },
      "execution_count": 176,
      "outputs": [
        {
          "name": "stdout",
          "output_type": "stream",
          "text": [
            "Please, enter the director names separated by commas: Frank Darabont,Steven Spielberg\n"
          ]
        },
        {
          "output_type": "display_data",
          "data": {
            "text/plain": [
              "<Figure size 640x480 with 1 Axes>"
            ],
            "image/png": "[encoded data removed]"
          },
          "metadata": {}
        }
      ]
    },
    {
      "cell_type": "code",
      "source": [
        "# Find and plot correlation between columns:\n",
        "# - year and gross\n",
        "# - year and runtime\n",
        "# - runtime and gross\n",
        "# - rating (for both imdb and metascore) and gross\n",
        "# - rating and runtime\n",
        "# Explain for each case why we may see such results\n",
        "task[17] = 15"
      ],
      "metadata": {
        "id": "_oJS1Yw0mUBJ"
      },
      "execution_count": null,
      "outputs": []
    },
    {
      "cell_type": "code",
      "source": [
        "task.sum()"
      ],
      "metadata": {
        "id": "TeoWKa2PgWLu",
        "colab": {
          "base_uri": "https://localhost:8080/"
        },
        "outputId": "2a66b456-6089-4ebb-d7bb-11771aab7b35"
      },
      "execution_count": 175,
      "outputs": [
        {
          "output_type": "execute_result",
          "data": {
            "text/plain": [
              "85"
            ]
          },
          "metadata": {},
          "execution_count": 175
        }
      ]
    }
  ]
}
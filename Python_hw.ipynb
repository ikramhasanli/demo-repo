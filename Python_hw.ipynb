{
  "cells": [
    {
      "cell_type": "markdown",
      "metadata": {
        "id": "view-in-github",
        "colab_type": "text"
      },
      "source": [
        "<a href=\"https://colab.research.google.com/github/ikramhasanli/demo-repo/blob/main/Python_hw.ipynb\" target=\"_parent\"><img src=\"https://colab.research.google.com/assets/colab-badge.svg\" alt=\"Open In Colab\"/></a>"
      ]
    },
    {
      "cell_type": "markdown",
      "metadata": {
        "id": "qL9L6AQyT0zg"
      },
      "source": [
        "# ENCE 3503: Data & Information Engineering -- Homework 1\n",
        "\n",
        "## Python Basics\n",
        "\n",
        "### Purpose\n",
        "\n",
        "This homework assignment aims to strengthen your understanding and proficiency in working with fundamental Python concepts, specifically lists, functions, and strings, loops etc. Through a series of exercises, you will delve into various aspects of these elements\n",
        "\n",
        "### Submission Instructions\n",
        "\n",
        "This assignment will be done entirely in this Colaboratory notebook, and you will submit your notebook with solutions to:\n",
        "\n",
        "1. Github Classroom (please accept the assigment at https://classroom.github.com/a/VcXnUK4X with your Github account. **(FALL 2024)**)\n",
        "\n",
        "2. Blackboard\n",
        "\n",
        "### Grading\n",
        "\n",
        "Throughout this course, we will use Google’s Python Style Guide (https://google.github.io/styleguide/pyguide.html) as the coding standard for homework and project submission. Grading is based on solution, comments and descriptions, and well-written and commented Python code, based on the coding standards noted above. The notebook should be fully explained and work in its entirety when you submit it."
      ]
    },
    {
      "cell_type": "markdown",
      "metadata": {
        "id": "6Z4g7aIwUpeJ"
      },
      "source": [
        "## Student Information\n",
        "\n",
        "**Full Name**: Ikram Hasanli\n",
        "\n",
        "**Student ID**: 15235\n",
        "\n",
        "**CRN**: 10160\n",
        "\n",
        "**Github Classroom Repository URL**: https://github.com/ADA-SITE-ENCE-3503/python-basics-ikramhasanli"
      ]
    },
    {
      "cell_type": "markdown",
      "metadata": {
        "id": "HV04piCW-U-g"
      },
      "source": [
        "## Task 1\n",
        "\n",
        "Write a program that prompts the user for numbers until they enter the command 'exit'. Upon receiving the 'exit' command, the program should compute and display total count, average, maximum, minimum, and median of numbers. Make sure to allow the user to enter multiple values separated by spaces in a single input line. Print error messages for invalid inputs, and ignore those inputs. Do not forget to use of functions for better organization and code readability.\n"
      ]
    },
    {
      "cell_type": "code",
      "source": [
        "!python --version"
      ],
      "metadata": {
        "id": "e9EK0jY74XYs"
      },
      "execution_count": null,
      "outputs": []
    },
    {
      "cell_type": "code",
      "execution_count": null,
      "metadata": {
        "id": "4lH6oYJKBc2G"
      },
      "outputs": [],
      "source": [
        "arr = [] #creating an array to transfer all numbers here\n",
        "def to_float_list(char_list):\n",
        "  float_list = []\n",
        "  for i in char_list:\n",
        "    float_list.append(float(i))\n",
        "\n",
        "  return float_list\n",
        "\n",
        "user_input = input(\"Enter numbers: \") #asking user for input\n",
        "while user_input != \"exit\": #until user writes \"exit\" they should be able to input\n",
        "  try:\n",
        "    if (user_input.find(' ') != -1): #if there are spaces\n",
        "      float_list = to_float_list(user_input.split()) #split the inputed values\n",
        "      arr.extend(float_list) #add to float_list\n",
        "    else:\n",
        "      arr.append(float(user_input))\n",
        "  except:\n",
        "    print(\"Please enter a correct value or 'exit'\") #if incorrect input (str)\n",
        "\n",
        "  user_input = input()\n",
        "\n",
        "print(\"Total count: \",len(arr)) #total count is the length, amount\n",
        "print(\"Average: \",sum(arr)/len(arr)) #average (mean) is total sum/count\n",
        "print(\"Maximum: \",max(arr)) #maximum in the array\n",
        "print(\"Minimum: \",min(arr)) #minimum in the array\n",
        "arr = sorted(arr) #sorting array to find the median\n",
        "if len(arr)%2 != 0: #in even numbered array median is in the middle, unlike the odd numbered one (written below)\n",
        "  print(\"Median: \", len(arr)/2) #in even numbers, the median is the number in the middle of the arr\n",
        "else:\n",
        "  print(\"Median: \", ((len(arr)/2 - 1)+len(arr))/2) #for odd numbered, median is sum of two numbers divided by 2\n",
        "\n",
        "\n",
        "\n"
      ]
    },
    {
      "cell_type": "markdown",
      "metadata": {
        "id": "gQB014kuBdq-"
      },
      "source": [
        "## Task 2\n",
        "\n",
        "Write a program that prompts the user to enter a specified number of integers, then display how many of the numbers are even and how many are odd. The program should also list the even and odd numbers separately. Print error messages for invalid inputs, and ignore those inputs. Do not forget to use of functions for better organization and code readability.\n"
      ]
    },
    {
      "cell_type": "code",
      "execution_count": null,
      "metadata": {
        "id": "IE7rTdOpD4hF"
      },
      "outputs": [],
      "source": [
        "def to_int_list(char_list): #creating a list to add inputs there\n",
        "  int_list = []\n",
        "  for i in char_list:\n",
        "    int_list.append(int(i)) #appending to the list\n",
        "\n",
        "  return int_list\n",
        "\n",
        "user_input = input(\"Enter all values separated with space: \") # user enters the values\n",
        "\n",
        "ilist = to_int_list(user_input.split()) #separating the values like '4', '5'\n",
        "\n",
        "even_list = [] #for even numbers\n",
        "odd_list = [] #for odd numbers\n",
        "\n",
        "for i in ilist:\n",
        "  if i % 2 == 0: #if even\n",
        "    even_list.append(i)\n",
        "  else:\n",
        "    odd_list.append(i)\n",
        "\n",
        "print(\"There are \", len(even_list), \"even numbers and they are: \", even_list) #even numbers output\n",
        "print(\"There are \", len(odd_list), \"odd numbers and they are: \", odd_list) #odd numbers output\n",
        "\n",
        "\n",
        "\n"
      ]
    },
    {
      "cell_type": "markdown",
      "metadata": {
        "id": "-YWOFM78D5Nl"
      },
      "source": [
        "## Task 3\n",
        "\n",
        "Develop a program that manages a personal account for tracking incomes and expenses. The program should allow users to add incomes and expenses, calculate totals, and display account information.\n",
        "\n",
        "Note: Attributes of PersonAccount class: first name, last name, incomes, expenses. Methods: add_income(description, amount), add_expense(description, amount), total_income(), total_expense(), account_balance(), account_info()"
      ]
    },
    {
      "cell_type": "code",
      "execution_count": null,
      "metadata": {
        "id": "Cj0WNcHLSZgJ"
      },
      "outputs": [],
      "source": [
        "class PersonAccount:\n",
        "    def __init__(self, fname, lname): #creating (defining) name, surname, income and expenses\n",
        "        self.first_name = fname\n",
        "        self.last_name = lname\n",
        "        self.income = []\n",
        "        self.expenses = []\n",
        "\n",
        "    def add_income(self,description, amount):  #appending income it to the total amount (for future calculations)\n",
        "        self.income.append(amount)\n",
        "\n",
        "    def add_expense(self,description, amount): #appending single expenses to the total amount\n",
        "        self.expenses.append(amount)\n",
        "\n",
        "    def total_expense(self): #appending expenses to the total expenses\n",
        "        return sum(self.expenses)\n",
        "\n",
        "    def total_income(self): #total income is the sum of all incomes\n",
        "        return sum(self.income)\n",
        "\n",
        "    def account_balance(self): #balance is total income-all expenses\n",
        "        return self.total_income() - self.total_expense()\n",
        "\n",
        "    def account_info(self): #printing account balance\n",
        "        print(fname, lname, self.account_balance())\n",
        "\n",
        "fname = input(\"Your name: \") #asking for name\n",
        "lname = input(\"Your surname: \") #asking for surname\n",
        "\n",
        "p = PersonAccount(fname,lname) #creating personal account for user\n",
        "\n",
        "inp = input(\"enter one of the following (income/expense/info/exit):\") #user is able to enter one of them to input\n",
        "while inp != 'exit': #while loop makes it repeat unless entered \"exit\"\n",
        "    if (inp == 'income'):\n",
        "        desc = input('Income description: ') #description (where they got the money from)\n",
        "        amt  = input('Amount: ')\n",
        "        p.add_income(desc,float(amt))\n",
        "    elif (inp == 'expense'): #description, such as spent for buying coffee\n",
        "        desc = input('Expense description: ')\n",
        "        amt = input('Amount: ')\n",
        "        p.add_expense(desc,float(amt))\n",
        "    elif (inp == 'info'):\n",
        "        p.account_info()\n",
        "    inp = input(\"enter one of the following (income/expense/info/exit):\")"
      ]
    },
    {
      "cell_type": "markdown",
      "metadata": {
        "id": "G4-Y376XSZqZ"
      },
      "source": [
        "## Task 4\n",
        "\n",
        "Write a program to check whether a given string is a \"mirrored string\". A string is considered mirrored if the first half of the string is equal to the reverse of the second half.\n",
        "\n",
        "If the string has an odd length, ignore the middle character when performing the check.\n",
        "\n",
        "If the string has an even length, check the two equal halves.\n",
        "\n",
        "Do not forget to use of functions for better organization and code readability."
      ]
    },
    {
      "cell_type": "code",
      "execution_count": null,
      "metadata": {
        "id": "pWAzLfQqFRCu"
      },
      "outputs": [],
      "source": [
        "user_input = input(\"enter your string: \") #user entering string\n",
        "\n",
        "def get_left(input_list): #left part of the string\n",
        "    return input_list[0:len(input_list)//2]\n",
        "\n",
        "def get_right(input_list): #right part of the string, reversing it to see if the left and right(reversed) are the same\n",
        "    return input_list[::-1][:len(user_input)//2]\n",
        "\n",
        "\n",
        "if get_left(user_input) == get_right(user_input): #checking if they are the same (even if there is an odd length, the middle will be ignored when there is division by two (both 9//4=2 and 8//4 = 2))\n",
        "    print(\"Mirrored string\")\n",
        "else:\n",
        "    print(\"Not a mirrored string\")"
      ]
    },
    {
      "cell_type": "markdown",
      "metadata": {
        "id": "jeHUo8uNFSZA"
      },
      "source": [
        "## Task 5\n",
        "\n",
        "Write a program that prompts the list of full names in the format \"First Middle Last\" from a user, where middle names may or may not be present. The full name can also contain a prefix (e.g., \"Dr.\", \"Mr.\", \"Mrs.\") and/or a suffix (e.g., \"Jr.\", \"Sr.\", \"III\"). Your task is to create a function process_names(names) that performs the following operations for each name in the list:\n",
        "\n",
        "If the name contains a middle name, extract only the first letter of the middle name, followed by a period. For example, \"John Michael Doe\" should be converted to \"John M. Doe\".\n",
        "\n",
        "If there is a prefix, it should remain unchanged at the beginning of the name. For example, \"Dr. John Michael Doe\" should be converted to \"Dr. John M. Doe\".\n",
        "\n",
        "If there is a suffix, it should remain unchanged at the end of the name. For example, \"John Michael Doe Jr.\" should be converted to \"John M. Doe Jr.\".\n",
        "\n",
        "If the name does not contain a middle name, prefix, or suffix, leave it unchanged.\n",
        "\n",
        "Finally, return a list of the processed names.\n",
        "\n",
        "Do not forget to use of functions for better organization and code readability."
      ]
    },
    {
      "cell_type": "code",
      "execution_count": null,
      "metadata": {
        "id": "VwbSOM09SWsy"
      },
      "outputs": [],
      "source": [
        "names = input(\"Please write your full name: \") #Input for name, surname, and if there is any, prefix/suffix/middle name\n",
        "\n",
        "def process_names(names):   #separating names\n",
        "    name_parts = names.split() #splitting the names (like 'Ikram', 'Hasanli')\n",
        "    max_names = len(name_parts) #maximum amount of inputed words, in this case 5 (name, surname, prefix, suffix, and middle name)\n",
        "\n",
        "    prefix = 0\n",
        "    suffix = 0\n",
        "\n",
        "    if name_parts[0].find('.') > -1: #if there is a prefix,a technique which identifies if there is \".\" as prefixes have it (Dr. Mr. etc)\n",
        "        prefix = 1\n",
        "    if (name_parts[-1].find('.') > -1) or (name_parts[-1].find('I') > -1):  #the same but there might also be II or III\n",
        "        suffix = 1\n",
        "    if (max_names - prefix - suffix) > 2: #if there is a middle name\n",
        "        name_parts[prefix+1] = name_parts[prefix+1][0].capitalize() + '.' #making the first letter capitalized and putting a period after it\n",
        "\n",
        "    return name_parts\n",
        "\n",
        "\n",
        "name_parts = process_names(names)\n",
        "for n in name_parts:\n",
        "    print(n,end = ' ')"
      ]
    }
  ],
  "metadata": {
    "colab": {
      "provenance": [],
      "include_colab_link": true
    },
    "kernelspec": {
      "display_name": "Python 3",
      "name": "python3"
    },
    "language_info": {
      "name": "python"
    }
  },
  "nbformat": 4,
  "nbformat_minor": 0
}
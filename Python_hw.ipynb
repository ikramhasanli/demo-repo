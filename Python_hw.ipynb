{
  "cells": [
    {
      "cell_type": "markdown",
      "metadata": {
        "id": "view-in-github",
        "colab_type": "text"
      },
      "source": [
        "<a href=\"https://colab.research.google.com/github/ikramhasanli/demo-repo/blob/main/Python_hw.ipynb\" target=\"_parent\"><img src=\"https://colab.research.google.com/assets/colab-badge.svg\" alt=\"Open In Colab\"/></a>"
      ]
    },
    {
      "cell_type": "markdown",
      "metadata": {
        "id": "qL9L6AQyT0zg"
      },
      "source": [
        "# ENCE 3503: Data & Information Engineering -- Homework 1\n",
        "\n",
        "## Python Basics\n",
        "\n",
        "### Purpose\n",
        "\n",
        "This homework assignment aims to strengthen your understanding and proficiency in working with fundamental Python concepts, specifically lists, functions, and strings, loops etc. Through a series of exercises, you will delve into various aspects of these elements\n",
        "\n",
        "### Submission Instructions\n",
        "\n",
        "This assignment will be done entirely in this Colaboratory notebook, and you will submit your notebook with solutions to:\n",
        "\n",
        "1. Github Classroom (please accept the assigment at https://classroom.github.com/a/VcXnUK4X with your Github account. **(FALL 2024)**)\n",
        "\n",
        "2. Blackboard\n",
        "\n",
        "### Grading\n",
        "\n",
        "Throughout this course, we will use Google’s Python Style Guide (https://google.github.io/styleguide/pyguide.html) as the coding standard for homework and project submission. Grading is based on solution, comments and descriptions, and well-written and commented Python code, based on the coding standards noted above. The notebook should be fully explained and work in its entirety when you submit it."
      ]
    },
    {
      "cell_type": "markdown",
      "metadata": {
        "id": "6Z4g7aIwUpeJ"
      },
      "source": [
        "## Student Information\n",
        "\n",
        "**Full Name**: Ikram Hasanli\n",
        "\n",
        "**Student ID**: 15235\n",
        "\n",
        "**CRN**: 10160\n",
        "\n",
        "**Github Classroom Repository URL**: https://github.com/ikramhasanli/demo-repo/blob/main/Python_hw.ipynb"
      ]
    },
    {
      "cell_type": "markdown",
      "metadata": {
        "id": "HV04piCW-U-g"
      },
      "source": [
        "## Task 1\n",
        "\n",
        "Write a program that prompts the user for numbers until they enter the command 'exit'. Upon receiving the 'exit' command, the program should compute and display total count, average, maximum, minimum, and median of numbers. Make sure to allow the user to enter multiple values separated by spaces in a single input line. Print error messages for invalid inputs, and ignore those inputs. Do not forget to use of functions for better organization and code readability.\n"
      ]
    },
    {
      "cell_type": "code",
      "source": [
        "!python --version"
      ],
      "metadata": {
        "colab": {
          "base_uri": "https://localhost:8080/"
        },
        "id": "e9EK0jY74XYs",
        "outputId": "db3131e7-cdf0-4565-892a-4f456b769e41"
      },
      "execution_count": null,
      "outputs": [
        {
          "output_type": "stream",
          "name": "stdout",
          "text": [
            "Python 3.10.12\n"
          ]
        }
      ]
    },
    {
      "cell_type": "code",
      "execution_count": null,
      "metadata": {
        "id": "4lH6oYJKBc2G",
        "colab": {
          "base_uri": "https://localhost:8080/"
        },
        "outputId": "6a7bf380-833c-4fd4-c49a-1ade00a1283c"
      },
      "outputs": [
        {
          "output_type": "stream",
          "name": "stdout",
          "text": [
            "Enter numbers: 1 2 3 4 5\n",
            "exit\n",
            "Total count:  5\n",
            "Average:  3.0\n",
            "Maximum:  5.0\n",
            "Minimum:  1.0\n",
            "Median:  2.5\n"
          ]
        }
      ],
      "source": [
        "arr = []\n",
        "def to_float_list(char_list):\n",
        "  float_list = []\n",
        "  for i in char_list:\n",
        "    float_list.append(float(i))\n",
        "\n",
        "  return float_list\n",
        "\n",
        "user_input = input(\"Enter numbers: \")\n",
        "while user_input != \"exit\":\n",
        "  try:\n",
        "    if (user_input.find(' ') != -1):\n",
        "      float_list = to_float_list(user_input.split())\n",
        "      arr.extend(float_list)\n",
        "    else:\n",
        "      arr.append(float(user_input))\n",
        "  except:\n",
        "    print(\"Please enter a correct value or 'exit'\")\n",
        "\n",
        "  user_input = input()\n",
        "\n",
        "print(\"Total count: \",len(arr))\n",
        "print(\"Average: \",sum(arr)/len(arr))\n",
        "print(\"Maximum: \",max(arr))\n",
        "print(\"Minimum: \",min(arr))\n",
        "arr = sorted(arr)\n",
        "if len(arr)%2 != 0:\n",
        "  print(\"Median: \", len(arr)/2)\n",
        "else:\n",
        "  print(\"Median: \", ((len(arr)/2 - 1)+len(arr))/2)\n",
        "\n",
        "\n",
        "\n"
      ]
    },
    {
      "cell_type": "markdown",
      "metadata": {
        "id": "gQB014kuBdq-"
      },
      "source": [
        "## Task 2\n",
        "\n",
        "Write a program that prompts the user to enter a specified number of integers, then display how many of the numbers are even and how many are odd. The program should also list the even and odd numbers separately. Print error messages for invalid inputs, and ignore those inputs. Do not forget to use of functions for better organization and code readability.\n"
      ]
    },
    {
      "cell_type": "code",
      "execution_count": null,
      "metadata": {
        "id": "IE7rTdOpD4hF",
        "colab": {
          "base_uri": "https://localhost:8080/"
        },
        "outputId": "09763f54-da3e-45ce-d3d2-a79cbde7f8ea"
      },
      "outputs": [
        {
          "output_type": "stream",
          "name": "stdout",
          "text": [
            "Enter all values separated with space: 1 2 3 4 5\n",
            "There are  2 even numbers and they are:  [2, 4]\n",
            "There are  3 odd numbers and they are:  [1, 3, 5]\n"
          ]
        }
      ],
      "source": [
        "def to_int_list(char_list):\n",
        "  int_list = []\n",
        "  for i in char_list:\n",
        "    int_list.append(int(i))\n",
        "\n",
        "  return int_list\n",
        "\n",
        "user_input = input(\"Enter all values separated with space: \")\n",
        "\n",
        "ilist = to_int_list(user_input.split())\n",
        "\n",
        "even_list = []\n",
        "odd_list = []\n",
        "\n",
        "for i in ilist:\n",
        "  if i % 2 == 0:\n",
        "    even_list.append(i)\n",
        "  else:\n",
        "    odd_list.append(i)\n",
        "\n",
        "print(\"There are \", len(even_list), \"even numbers and they are: \", even_list)\n",
        "print(\"There are \", len(odd_list), \"odd numbers and they are: \", odd_list)\n",
        "\n",
        "\n",
        "\n"
      ]
    },
    {
      "cell_type": "markdown",
      "metadata": {
        "id": "-YWOFM78D5Nl"
      },
      "source": [
        "## Task 3\n",
        "\n",
        "Develop a program that manages a personal account for tracking incomes and expenses. The program should allow users to add incomes and expenses, calculate totals, and display account information.\n",
        "\n",
        "Note: Attributes of PersonAccount class: first name, last name, incomes, expenses. Methods: add_income(description, amount), add_expense(description, amount), total_income(), total_expense(), account_balance(), account_info()"
      ]
    },
    {
      "cell_type": "code",
      "execution_count": null,
      "metadata": {
        "id": "Cj0WNcHLSZgJ"
      },
      "outputs": [],
      "source": [
        "class PersonAccount:\n",
        "    def __init__(self, fname, lname):\n",
        "        self.first_name = fname\n",
        "        self.last_name = lname\n",
        "        self.income = []\n",
        "        self.expenses = []\n",
        "\n",
        "    def add_income(self,description, amount):\n",
        "        self.income.append(amount)\n",
        "\n",
        "    def add_expense(self,description, amount):\n",
        "        self.expenses.append(amount)\n",
        "\n",
        "    def total_expense(self):\n",
        "        return sum(self.expenses)\n",
        "\n",
        "    def total_income(self):\n",
        "        return sum(self.income)\n",
        "\n",
        "    def account_balance(self):\n",
        "        return self.total_income() - self.total_expense()\n",
        "\n",
        "    def account_info(self):\n",
        "        print(fname, lname, self.account_balance())\n",
        "\n",
        "fname = input(\"Your name: \")\n",
        "lname = input(\"Your surname: \")\n",
        "\n",
        "p = PersonAccount(fname,lname)\n",
        "\n",
        "inp = input(\"enter one of the following (income/expense/info/exit):\")\n",
        "while inp != 'exit':\n",
        "    if (inp == 'income'):\n",
        "        desc = input('Income description: ')\n",
        "        amt  = input('Amount: ')\n",
        "        p.add_income(desc,float(amt))\n",
        "    elif (inp == 'expense'):\n",
        "        desc = input('Expense description: ')\n",
        "        amt = input('Amount: ')\n",
        "        p.add_expense(desc,float(amt))\n",
        "    elif (inp == 'info'):\n",
        "        p.account_info()\n",
        "    inp = input(\"enter one of the following (income/expense/info/exit):\")"
      ]
    },
    {
      "cell_type": "markdown",
      "metadata": {
        "id": "G4-Y376XSZqZ"
      },
      "source": [
        "## Task 4\n",
        "\n",
        "Write a program to check whether a given string is a \"mirrored string\". A string is considered mirrored if the first half of the string is equal to the reverse of the second half.\n",
        "\n",
        "If the string has an odd length, ignore the middle character when performing the check.\n",
        "\n",
        "If the string has an even length, check the two equal halves.\n",
        "\n",
        "Do not forget to use of functions for better organization and code readability."
      ]
    },
    {
      "cell_type": "code",
      "execution_count": 1,
      "metadata": {
        "id": "pWAzLfQqFRCu",
        "colab": {
          "base_uri": "https://localhost:8080/"
        },
        "outputId": "f61454e7-81eb-4ef8-d724-3a9429adcc9f"
      },
      "outputs": [
        {
          "output_type": "stream",
          "name": "stdout",
          "text": [
            "enter your string: isa\n",
            "Not a mirrored string\n"
          ]
        }
      ],
      "source": [
        "user_input = input(\"enter your string: \")\n",
        "\n",
        "def get_left(input_list):\n",
        "    return input_list[0:len(input_list)//2]\n",
        "\n",
        "def get_right(input_list):\n",
        "    return input_list[::-1][:len(user_input)//2]\n",
        "\n",
        "\n",
        "if get_left(user_input) == get_right(user_input):\n",
        "    print(\"Mirrored string\")\n",
        "else:\n",
        "    print(\"Not a mirrored string\")"
      ]
    },
    {
      "cell_type": "markdown",
      "metadata": {
        "id": "jeHUo8uNFSZA"
      },
      "source": [
        "## Task 5\n",
        "\n",
        "Write a program that prompts the list of full names in the format \"First Middle Last\" from a user, where middle names may or may not be present. The full name can also contain a prefix (e.g., \"Dr.\", \"Mr.\", \"Mrs.\") and/or a suffix (e.g., \"Jr.\", \"Sr.\", \"III\"). Your task is to create a function process_names(names) that performs the following operations for each name in the list:\n",
        "\n",
        "If the name contains a middle name, extract only the first letter of the middle name, followed by a period. For example, \"John Michael Doe\" should be converted to \"John M. Doe\".\n",
        "\n",
        "If there is a prefix, it should remain unchanged at the beginning of the name. For example, \"Dr. John Michael Doe\" should be converted to \"Dr. John M. Doe\".\n",
        "\n",
        "If there is a suffix, it should remain unchanged at the end of the name. For example, \"John Michael Doe Jr.\" should be converted to \"John M. Doe Jr.\".\n",
        "\n",
        "If the name does not contain a middle name, prefix, or suffix, leave it unchanged.\n",
        "\n",
        "Finally, return a list of the processed names.\n",
        "\n",
        "Do not forget to use of functions for better organization and code readability."
      ]
    },
    {
      "cell_type": "code",
      "execution_count": null,
      "metadata": {
        "id": "VwbSOM09SWsy"
      },
      "outputs": [],
      "source": [
        "names = input(\"Please write your full name: \")\n",
        "\n",
        "def process_names(names):\n",
        "    name_parts = names.split()\n",
        "    max_names = len(name_parts)\n",
        "\n",
        "    prefix = 0\n",
        "    suffix = 0\n",
        "\n",
        "    if name_parts[0].find('.') > -1:\n",
        "        prefix = 1\n",
        "    if (name_parts[-1].find('.') > -1) or (name_parts[-1].find('I') > -1):\n",
        "        suffix = 1\n",
        "    if (max_names - prefix - suffix) > 2:\n",
        "        name_parts[prefix+1] = name_parts[prefix+1][0].capitalize() + '.'\n",
        "\n",
        "    return name_parts\n",
        "\n",
        "\n",
        "name_parts = process_names(names)\n",
        "for n in name_parts:\n",
        "    print(n,end = ' ')"
      ]
    }
  ],
  "metadata": {
    "colab": {
      "provenance": [],
      "include_colab_link": true
    },
    "kernelspec": {
      "display_name": "Python 3",
      "name": "python3"
    },
    "language_info": {
      "name": "python"
    }
  },
  "nbformat": 4,
  "nbformat_minor": 0
}